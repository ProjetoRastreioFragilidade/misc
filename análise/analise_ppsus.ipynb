{
 "cells": [
  {
   "cell_type": "code",
   "execution_count": 35,
   "metadata": {},
   "outputs": [
    {
     "data": {
      "text/html": [
       "<script>requirejs.config({paths: { 'plotly': ['https://cdn.plot.ly/plotly-latest.min']},});if(!window.Plotly) {{require(['plotly'],function(plotly) {window.Plotly=plotly;});}}</script>"
      ],
      "text/vnd.plotly.v1+html": [
       "<script>requirejs.config({paths: { 'plotly': ['https://cdn.plot.ly/plotly-latest.min']},});if(!window.Plotly) {{require(['plotly'],function(plotly) {window.Plotly=plotly;});}}</script>"
      ]
     },
     "metadata": {},
     "output_type": "display_data"
    }
   ],
   "source": [
    "import pandas as pd\n",
    "import numpy as np\n",
    "import matplotlib.pyplot as plt\n",
    "#import mysql.connector\n",
    "\n",
    "import plotly.graph_objs as go\n",
    "from plotly import tools\n",
    "from plotly.offline import init_notebook_mode, plot, iplot\n",
    "\n",
    "init_notebook_mode(connected=True)\n",
    "\n",
    "# conector com o banco\n",
    "#conn = mysql.connector.connect(user='root', password='rede243', host='localhost', database='ppsus')"
   ]
  },
  {
   "cell_type": "markdown",
   "metadata": {},
   "source": [
    "Extrai a tabela 'coleta' do banco e divide em tres dataframes (respostas, variáveis, variáveis categóricas)"
   ]
  },
  {
   "cell_type": "code",
   "execution_count": 36,
   "metadata": {},
   "outputs": [],
   "source": [
    "#df_coleta = pd.read_sql('SELECT * FROM ppsus_app_coleta', conn)\n",
    "df_coleta = pd.read_csv('data.csv')\n",
    "cols = df_coleta.columns\n",
    "n_inst = df_coleta.shape[0]\n",
    "\n",
    "df_answ = df_coleta.loc[:,'subjetiva':'edmonton_q9']\n",
    "cols_answ = df_answ.columns\n",
    "\n",
    "df_feat =  df_coleta.loc[:,'meem':'tnf_beta']\n",
    "cols_feat = df_feat.columns\n",
    "\n",
    "df_feat_cat = df_coleta.loc[:,'internacao_cat':'hematocrito_cat']\n",
    "cols_feat_cat = df_feat_cat.columns\n",
    "\n",
    "#df_feat =  df_coleta[['meem', 'ativ_fis', 'temp_sent', 'gds', 'fes', 'man', 'fraq_musc_media', 'fraq_musc_max', 'lawton', 'katz', 'aavd', 'tug', 'caminhada', 'mos', 'circ_cint', 'circ_quad', 'circ_pant', 'berg', 'relogio', 'quedas']]\n",
    "#df_feat_cat = df_coleta[['meem_cat', 'gds_cat2', 'katz_cat2', 'aavd_cat', 'tug_cat', 'berg_cat2']]"
   ]
  },
  {
   "cell_type": "markdown",
   "metadata": {},
   "source": [
    "## I) Validação cruzada com relação à métrica do critério de Fisher"
   ]
  },
  {
   "cell_type": "code",
   "execution_count": 22,
   "metadata": {},
   "outputs": [],
   "source": [
    "# calcula o score de fisher para o cross validation\n",
    "def KFisherScore(df, aval='subjetiva'):\n",
    "    score = np.zeros((1, len(cols_feat)))\n",
    "    \n",
    "    for c1 in ['F', 'P']:\n",
    "        c2 = ['F', 'P', 'N']\n",
    "        c2.remove(c1)\n",
    "        \n",
    "        df1 = df.query('subjetiva == \"'+c1+'\"').loc[:,cols_feat]\n",
    "        df2 = df.query('subjetiva == \"'+c2[0]+'\" or subjetiva == \"'+c2[1]+'\"').loc[:,cols_feat]\n",
    "        \n",
    "        score += ( (np.mean(df1) - np.mean(df2)).pow(2) / (np.var(df1) + np.var(df2)) ).values\n",
    "        #score += ( (np.mean(df1) - np.mean(df2)).pow(2) / (np.var(df1, ddof=1) + np.var(df2, ddof=1)) ).values\n",
    "        \n",
    "    return score/3"
   ]
  },
  {
   "cell_type": "code",
   "execution_count": 142,
   "metadata": {},
   "outputs": [],
   "source": [
    "def plotFisherScore(aval, scores):\n",
    "    mean = scores.mean(axis=0)\n",
    "    std = scores.std(axis=0)\n",
    "    # ordenando\n",
    "    mean, std, feats = zip(*sorted(zip(mean, std, cols_feat), reverse=True))\n",
    "\n",
    "    data = [go.Bar(x=feats,\n",
    "                   y=mean,\n",
    "                   error_y=dict(\n",
    "                       type='data',\n",
    "                       array=std,\n",
    "                       visible=True))]\n",
    "\n",
    "    fig = go.Figure(data=data)\n",
    "    fig['layout'].update(title='Pontuação das variáveis no Score de Fisher para a avaliação '+aval)\n",
    "\n",
    "    iplot(fig)"
   ]
  },
  {
   "cell_type": "code",
   "execution_count": 23,
   "metadata": {
    "scrolled": true
   },
   "outputs": [],
   "source": [
    "# faz a validação cruzada com k=10\n",
    "k_size = int(n_inst*0.1)\n",
    "\n",
    "cross_validation = np.zeros((10, len(cols_feat)))\n",
    "\n",
    "for k in range(10):\n",
    "    a = k*k_size\n",
    "    b = (k+1) * k_size\n",
    "    \n",
    "    s1 = KFisherScore(df_coleta.iloc[a : b+1])\n",
    "    s2 = KFisherScore( pd.concat((df_coleta.iloc[ : a], df_coleta.iloc[b : ])) )\n",
    "    \n",
    "    cross_validation[k] = s1 - s2"
   ]
  },
  {
   "cell_type": "code",
   "execution_count": 24,
   "metadata": {},
   "outputs": [],
   "source": [
    "# salva as 10 execuções em um arquivo csv\n",
    "df = pd.DataFrame(cross_validation, range(10), df_coleta.loc[:,'meem':'tnf_beta'].columns)\n",
    "df.to_csv('cross_validation_fisher_score.csv')"
   ]
  },
  {
   "cell_type": "code",
   "execution_count": 143,
   "metadata": {},
   "outputs": [
    {
     "data": {
      "application/vnd.plotly.v1+json": {
       "data": [
        {
         "error_y": {
          "array": [
           0.2359228456571275,
           0.10591392946340256,
           0.11588215760395151,
           0.1928276571105667,
           0.12021398315602293,
           0.06334541144144192,
           0.09654371880423664,
           0.14351988213549954,
           0.1247209538517629,
           0.1282684600527666,
           0.06131504788925,
           0.05752753899555995,
           0.04125620507111228,
           0.06357575462757942,
           0.031178042453534845,
           0.08412804640204245,
           0.03596230923115694,
           0.048111784196579147,
           0.04700887493160353,
           0.03534836986128476,
           0.05243893399143174,
           0.03419794988320073,
           0.06313597126803625,
           0.049312554899181085,
           0.04398765477006336,
           0.04924740624214005,
           0.036521047916073364,
           0.0402876369964452,
           0.048866102133331556,
           0.047422694496415105,
           0.0387741040584738,
           0.09063885789629748,
           0.037907048868228925,
           0.054477231735476916,
           0.038102039193549306,
           0.07579668181853026,
           0.13454364758896398,
           0.035700271845220496,
           0.03988750587729943,
           0.020953831561266265,
           0.03892626903085651,
           0.013604628003651129,
           0.01594408824819938,
           0.04540023873765092,
           0.024488874729651125,
           0.018266104730740855,
           0.05832439321199858,
           0.03247363935636105
          ],
          "type": "data",
          "visible": true
         },
         "type": "bar",
         "uid": "4ff9e618-d3f4-11e8-8093-5cc9d3123360",
         "x": [
          "man",
          "mos",
          "albumina",
          "gds",
          "ureia",
          "il_1alpha",
          "quedas",
          "fes",
          "hematocrito",
          "hemoglobina",
          "meem",
          "il_1beta",
          "globulinas",
          "il_10",
          "katz",
          "proteina_total",
          "ldl",
          "hgh",
          "relogio",
          "tnf_beta",
          "hidroxivitamina_d",
          "idade",
          "s_dhea",
          "tnf_alpha",
          "somatomedina_c",
          "insulina",
          "circ_cint",
          "hemoglobina_glicada",
          "ativ_fis",
          "colesterol_total",
          "circ_pant",
          "tug",
          "vldl",
          "fraq_musc_max",
          "fraq_musc_media",
          "temp_sent",
          "caminhada",
          "glicose",
          "hdl",
          "dhea",
          "aavd",
          "creatina",
          "circ_quad",
          "adam10",
          "il_6",
          "triglicerides",
          "berg",
          "lawton"
         ],
         "y": [
          0.1724267508669968,
          0.09390656904587201,
          0.08527818457704436,
          0.07605207973676097,
          0.07036926936136732,
          0.06884073547006961,
          0.06647276915045666,
          0.05969542084279532,
          0.05616306854091332,
          0.05540361618530959,
          0.053198808015044695,
          0.05261246391656954,
          0.051769716606380654,
          0.05022462327162147,
          0.04932847221870701,
          0.049210166540708006,
          0.046599189944161915,
          0.04622796144268738,
          0.045710630857857606,
          0.04388318674377538,
          0.042484445003083654,
          0.04136300942373621,
          0.04110237652312788,
          0.041003994847628865,
          0.038332947533219516,
          0.03773791749347276,
          0.037457191896298814,
          0.0374030344623148,
          0.035942987125085535,
          0.03468095079385077,
          0.032924339717196445,
          0.03135717626639753,
          0.030925081431765856,
          0.030293614031450804,
          0.02975299905741824,
          0.0296777485896214,
          0.029545313480485558,
          0.02862455224625418,
          0.0280550884302052,
          0.02619194625281182,
          0.023933644914267485,
          0.023232593809916536,
          0.02320462197307272,
          0.02184384307688149,
          0.02144624918735174,
          0.016014893589717017,
          0.013664543339021895,
          0.012192577064149775
         ]
        }
       ],
       "layout": {
        "title": "Pontuação das variáveis no Score de Fisher para a avaliação subjetiva"
       }
      },
      "text/html": [
       "<div id=\"bca177b1-a3a7-46de-9610-c6e3282ba99d\" style=\"height: 525px; width: 100%;\" class=\"plotly-graph-div\"></div><script type=\"text/javascript\">require([\"plotly\"], function(Plotly) { window.PLOTLYENV=window.PLOTLYENV || {};window.PLOTLYENV.BASE_URL=\"https://plot.ly\";Plotly.newPlot(\"bca177b1-a3a7-46de-9610-c6e3282ba99d\", [{\"y\": [0.1724267508669968, 0.09390656904587201, 0.08527818457704436, 0.07605207973676097, 0.07036926936136732, 0.06884073547006961, 0.06647276915045666, 0.05969542084279532, 0.05616306854091332, 0.05540361618530959, 0.053198808015044695, 0.05261246391656954, 0.051769716606380654, 0.05022462327162147, 0.04932847221870701, 0.049210166540708006, 0.046599189944161915, 0.04622796144268738, 0.045710630857857606, 0.04388318674377538, 0.042484445003083654, 0.04136300942373621, 0.04110237652312788, 0.041003994847628865, 0.038332947533219516, 0.03773791749347276, 0.037457191896298814, 0.0374030344623148, 0.035942987125085535, 0.03468095079385077, 0.032924339717196445, 0.03135717626639753, 0.030925081431765856, 0.030293614031450804, 0.02975299905741824, 0.0296777485896214, 0.029545313480485558, 0.02862455224625418, 0.0280550884302052, 0.02619194625281182, 0.023933644914267485, 0.023232593809916536, 0.02320462197307272, 0.02184384307688149, 0.02144624918735174, 0.016014893589717017, 0.013664543339021895, 0.012192577064149775], \"error_y\": {\"visible\": true, \"array\": [0.2359228456571275, 0.10591392946340256, 0.11588215760395151, 0.1928276571105667, 0.12021398315602293, 0.06334541144144192, 0.09654371880423664, 0.14351988213549954, 0.1247209538517629, 0.1282684600527666, 0.06131504788925, 0.05752753899555995, 0.04125620507111228, 0.06357575462757942, 0.031178042453534845, 0.08412804640204245, 0.03596230923115694, 0.048111784196579147, 0.04700887493160353, 0.03534836986128476, 0.05243893399143174, 0.03419794988320073, 0.06313597126803625, 0.049312554899181085, 0.04398765477006336, 0.04924740624214005, 0.036521047916073364, 0.0402876369964452, 0.048866102133331556, 0.047422694496415105, 0.0387741040584738, 0.09063885789629748, 0.037907048868228925, 0.054477231735476916, 0.038102039193549306, 0.07579668181853026, 0.13454364758896398, 0.035700271845220496, 0.03988750587729943, 0.020953831561266265, 0.03892626903085651, 0.013604628003651129, 0.01594408824819938, 0.04540023873765092, 0.024488874729651125, 0.018266104730740855, 0.05832439321199858, 0.03247363935636105], \"type\": \"data\"}, \"uid\": \"4ff9e618-d3f4-11e8-8093-5cc9d3123360\", \"type\": \"bar\", \"x\": [\"man\", \"mos\", \"albumina\", \"gds\", \"ureia\", \"il_1alpha\", \"quedas\", \"fes\", \"hematocrito\", \"hemoglobina\", \"meem\", \"il_1beta\", \"globulinas\", \"il_10\", \"katz\", \"proteina_total\", \"ldl\", \"hgh\", \"relogio\", \"tnf_beta\", \"hidroxivitamina_d\", \"idade\", \"s_dhea\", \"tnf_alpha\", \"somatomedina_c\", \"insulina\", \"circ_cint\", \"hemoglobina_glicada\", \"ativ_fis\", \"colesterol_total\", \"circ_pant\", \"tug\", \"vldl\", \"fraq_musc_max\", \"fraq_musc_media\", \"temp_sent\", \"caminhada\", \"glicose\", \"hdl\", \"dhea\", \"aavd\", \"creatina\", \"circ_quad\", \"adam10\", \"il_6\", \"triglicerides\", \"berg\", \"lawton\"]}], {\"title\": \"Pontua\\u00e7\\u00e3o das vari\\u00e1veis no Score de Fisher para a avalia\\u00e7\\u00e3o subjetiva\"}, {\"showLink\": true, \"linkText\": \"Export to plot.ly\"})});</script>"
      ],
      "text/vnd.plotly.v1+html": [
       "<div id=\"bca177b1-a3a7-46de-9610-c6e3282ba99d\" style=\"height: 525px; width: 100%;\" class=\"plotly-graph-div\"></div><script type=\"text/javascript\">require([\"plotly\"], function(Plotly) { window.PLOTLYENV=window.PLOTLYENV || {};window.PLOTLYENV.BASE_URL=\"https://plot.ly\";Plotly.newPlot(\"bca177b1-a3a7-46de-9610-c6e3282ba99d\", [{\"y\": [0.1724267508669968, 0.09390656904587201, 0.08527818457704436, 0.07605207973676097, 0.07036926936136732, 0.06884073547006961, 0.06647276915045666, 0.05969542084279532, 0.05616306854091332, 0.05540361618530959, 0.053198808015044695, 0.05261246391656954, 0.051769716606380654, 0.05022462327162147, 0.04932847221870701, 0.049210166540708006, 0.046599189944161915, 0.04622796144268738, 0.045710630857857606, 0.04388318674377538, 0.042484445003083654, 0.04136300942373621, 0.04110237652312788, 0.041003994847628865, 0.038332947533219516, 0.03773791749347276, 0.037457191896298814, 0.0374030344623148, 0.035942987125085535, 0.03468095079385077, 0.032924339717196445, 0.03135717626639753, 0.030925081431765856, 0.030293614031450804, 0.02975299905741824, 0.0296777485896214, 0.029545313480485558, 0.02862455224625418, 0.0280550884302052, 0.02619194625281182, 0.023933644914267485, 0.023232593809916536, 0.02320462197307272, 0.02184384307688149, 0.02144624918735174, 0.016014893589717017, 0.013664543339021895, 0.012192577064149775], \"error_y\": {\"visible\": true, \"array\": [0.2359228456571275, 0.10591392946340256, 0.11588215760395151, 0.1928276571105667, 0.12021398315602293, 0.06334541144144192, 0.09654371880423664, 0.14351988213549954, 0.1247209538517629, 0.1282684600527666, 0.06131504788925, 0.05752753899555995, 0.04125620507111228, 0.06357575462757942, 0.031178042453534845, 0.08412804640204245, 0.03596230923115694, 0.048111784196579147, 0.04700887493160353, 0.03534836986128476, 0.05243893399143174, 0.03419794988320073, 0.06313597126803625, 0.049312554899181085, 0.04398765477006336, 0.04924740624214005, 0.036521047916073364, 0.0402876369964452, 0.048866102133331556, 0.047422694496415105, 0.0387741040584738, 0.09063885789629748, 0.037907048868228925, 0.054477231735476916, 0.038102039193549306, 0.07579668181853026, 0.13454364758896398, 0.035700271845220496, 0.03988750587729943, 0.020953831561266265, 0.03892626903085651, 0.013604628003651129, 0.01594408824819938, 0.04540023873765092, 0.024488874729651125, 0.018266104730740855, 0.05832439321199858, 0.03247363935636105], \"type\": \"data\"}, \"uid\": \"4ff9e618-d3f4-11e8-8093-5cc9d3123360\", \"type\": \"bar\", \"x\": [\"man\", \"mos\", \"albumina\", \"gds\", \"ureia\", \"il_1alpha\", \"quedas\", \"fes\", \"hematocrito\", \"hemoglobina\", \"meem\", \"il_1beta\", \"globulinas\", \"il_10\", \"katz\", \"proteina_total\", \"ldl\", \"hgh\", \"relogio\", \"tnf_beta\", \"hidroxivitamina_d\", \"idade\", \"s_dhea\", \"tnf_alpha\", \"somatomedina_c\", \"insulina\", \"circ_cint\", \"hemoglobina_glicada\", \"ativ_fis\", \"colesterol_total\", \"circ_pant\", \"tug\", \"vldl\", \"fraq_musc_max\", \"fraq_musc_media\", \"temp_sent\", \"caminhada\", \"glicose\", \"hdl\", \"dhea\", \"aavd\", \"creatina\", \"circ_quad\", \"adam10\", \"il_6\", \"triglicerides\", \"berg\", \"lawton\"]}], {\"title\": \"Pontua\\u00e7\\u00e3o das vari\\u00e1veis no Score de Fisher para a avalia\\u00e7\\u00e3o subjetiva\"}, {\"showLink\": true, \"linkText\": \"Export to plot.ly\"})});</script>"
      ]
     },
     "metadata": {},
     "output_type": "display_data"
    }
   ],
   "source": [
    "plotFisherScore('subjetiva', cross_validation)"
   ]
  },
  {
   "cell_type": "markdown",
   "metadata": {},
   "source": [
    "## II) Similaridade de respostas obtidas pela Subjetiva e Edmonton"
   ]
  },
  {
   "cell_type": "code",
   "execution_count": 3,
   "metadata": {},
   "outputs": [],
   "source": [
    "def distance(x, y, avaliacao):\n",
    "    if avaliacao == 'subjetiva':\n",
    "        x = x.loc['subjetiva_q1' : 'subjetiva_q6'].drop('subjetiva_q1_kg')\n",
    "        y = y.loc['subjetiva_q1' : 'subjetiva_q6'].drop('subjetiva_q1_kg')                \n",
    "    else:\n",
    "        x = x.loc['edmonton_q1' : 'edmonton_q9']\n",
    "        y = y.loc['edmonton_q1' : 'edmonton_q9']\n",
    "    \n",
    "    return np.nansum(abs(x - y), dtype=np.int)"
   ]
  },
  {
   "cell_type": "code",
   "execution_count": 4,
   "metadata": {
    "scrolled": true
   },
   "outputs": [],
   "source": [
    "#n_inst = 10\n",
    "#n_inst = df_coleta.shape[0]\n",
    "\n",
    "dist_sub = np.zeros(18)\n",
    "dist_edm = np.zeros(18)\n",
    "\n",
    "for i in range(n_inst-1):\n",
    "    for j in range(i+1, n_inst):\n",
    "        d_sub = distance(df_answ.iloc[i], df_answ.iloc[j], 'subjetiva')\n",
    "        d_edm = distance(df_answ.iloc[i], df_answ.iloc[j], 'edmonton')\n",
    "        \n",
    "        dist_sub[d_sub] += 1\n",
    "        dist_edm[d_edm] += 1\n",
    "\n",
    "import math\n",
    "combinations = math.factorial(n_inst)/(2*math.factorial(n_inst-2))\n",
    "dist_sub /= combinations\n",
    "dist_edm /= combinations"
   ]
  },
  {
   "cell_type": "code",
   "execution_count": 5,
   "metadata": {},
   "outputs": [
    {
     "data": {
      "application/vnd.plotly.v1+json": {
       "data": [
        {
         "name": "Subjetiva",
         "type": "bar",
         "uid": "36254ae4-d3c1-11e8-8093-5cc9d3123360",
         "x": [
          0,
          1,
          2,
          3,
          4,
          5,
          6,
          7,
          8,
          9,
          10,
          11
         ],
         "y": [
          0.0961218836565097,
          0.2105570944906125,
          0.2994152046783626,
          0.23259464450600184,
          0.12533087103724222,
          0.034195136965220065,
          0.0017851646660510926,
          0,
          0,
          0,
          0,
          0,
          0,
          0,
          0,
          0,
          0,
          0
         ]
        },
        {
         "name": "Edmonton",
         "type": "bar",
         "uid": "36254ae5-d3c1-11e8-8093-5cc9d3123360",
         "x": [
          0,
          1,
          2,
          3,
          4,
          5,
          6,
          7,
          8,
          9,
          10,
          11
         ],
         "y": [
          0.04661434287473069,
          0.06411203447214528,
          0.09232071406586642,
          0.15015389350569405,
          0.1891505078485688,
          0.18139427516158818,
          0.1366420437057556,
          0.08111726685133887,
          0.03901200369344414,
          0.014604493690366267,
          0.004139735303170206,
          0.0006155740227762388,
          9.233610341643582e-05,
          3.077870113881194e-05,
          0,
          0,
          0,
          0
         ]
        }
       ],
       "layout": {
        "title": "Distribuição das distâncias",
        "xaxis": {
         "title": "Distância"
        },
        "yaxis": {
         "title": "Proporção de pares de indivíduos"
        }
       }
      },
      "text/html": [
       "<div id=\"0dd9b27b-6317-459c-90b3-ef18cc81d631\" style=\"height: 525px; width: 100%;\" class=\"plotly-graph-div\"></div><script type=\"text/javascript\">require([\"plotly\"], function(Plotly) { window.PLOTLYENV=window.PLOTLYENV || {};window.PLOTLYENV.BASE_URL=\"https://plot.ly\";Plotly.newPlot(\"0dd9b27b-6317-459c-90b3-ef18cc81d631\", [{\"y\": [0.0961218836565097, 0.2105570944906125, 0.2994152046783626, 0.23259464450600184, 0.12533087103724222, 0.034195136965220065, 0.0017851646660510926, 0.0, 0.0, 0.0, 0.0, 0.0, 0.0, 0.0, 0.0, 0.0, 0.0, 0.0], \"name\": \"Subjetiva\", \"uid\": \"36254ae4-d3c1-11e8-8093-5cc9d3123360\", \"type\": \"bar\", \"x\": [0, 1, 2, 3, 4, 5, 6, 7, 8, 9, 10, 11]}, {\"y\": [0.04661434287473069, 0.06411203447214528, 0.09232071406586642, 0.15015389350569405, 0.1891505078485688, 0.18139427516158818, 0.1366420437057556, 0.08111726685133887, 0.03901200369344414, 0.014604493690366267, 0.004139735303170206, 0.0006155740227762388, 9.233610341643582e-05, 3.077870113881194e-05, 0.0, 0.0, 0.0, 0.0], \"name\": \"Edmonton\", \"uid\": \"36254ae5-d3c1-11e8-8093-5cc9d3123360\", \"type\": \"bar\", \"x\": [0, 1, 2, 3, 4, 5, 6, 7, 8, 9, 10, 11]}], {\"title\": \"Distribui\\u00e7\\u00e3o das dist\\u00e2ncias\", \"xaxis\": {\"title\": \"Dist\\u00e2ncia\"}, \"yaxis\": {\"title\": \"Propor\\u00e7\\u00e3o de pares de indiv\\u00edduos\"}}, {\"showLink\": true, \"linkText\": \"Export to plot.ly\"})});</script>"
      ],
      "text/vnd.plotly.v1+html": [
       "<div id=\"0dd9b27b-6317-459c-90b3-ef18cc81d631\" style=\"height: 525px; width: 100%;\" class=\"plotly-graph-div\"></div><script type=\"text/javascript\">require([\"plotly\"], function(Plotly) { window.PLOTLYENV=window.PLOTLYENV || {};window.PLOTLYENV.BASE_URL=\"https://plot.ly\";Plotly.newPlot(\"0dd9b27b-6317-459c-90b3-ef18cc81d631\", [{\"y\": [0.0961218836565097, 0.2105570944906125, 0.2994152046783626, 0.23259464450600184, 0.12533087103724222, 0.034195136965220065, 0.0017851646660510926, 0.0, 0.0, 0.0, 0.0, 0.0, 0.0, 0.0, 0.0, 0.0, 0.0, 0.0], \"name\": \"Subjetiva\", \"uid\": \"36254ae4-d3c1-11e8-8093-5cc9d3123360\", \"type\": \"bar\", \"x\": [0, 1, 2, 3, 4, 5, 6, 7, 8, 9, 10, 11]}, {\"y\": [0.04661434287473069, 0.06411203447214528, 0.09232071406586642, 0.15015389350569405, 0.1891505078485688, 0.18139427516158818, 0.1366420437057556, 0.08111726685133887, 0.03901200369344414, 0.014604493690366267, 0.004139735303170206, 0.0006155740227762388, 9.233610341643582e-05, 3.077870113881194e-05, 0.0, 0.0, 0.0, 0.0], \"name\": \"Edmonton\", \"uid\": \"36254ae5-d3c1-11e8-8093-5cc9d3123360\", \"type\": \"bar\", \"x\": [0, 1, 2, 3, 4, 5, 6, 7, 8, 9, 10, 11]}], {\"title\": \"Distribui\\u00e7\\u00e3o das dist\\u00e2ncias\", \"xaxis\": {\"title\": \"Dist\\u00e2ncia\"}, \"yaxis\": {\"title\": \"Propor\\u00e7\\u00e3o de pares de indiv\\u00edduos\"}}, {\"showLink\": true, \"linkText\": \"Export to plot.ly\"})});</script>"
      ]
     },
     "metadata": {},
     "output_type": "display_data"
    }
   ],
   "source": [
    "trace1 = go.Bar(\n",
    "    x=np.arange(12),\n",
    "    y=dist_sub,\n",
    "    name='Subjetiva'\n",
    ")\n",
    "trace2 = go.Bar(\n",
    "    x=np.arange(12),\n",
    "    y=dist_edm,\n",
    "    name='Edmonton'\n",
    ")\n",
    "data = [trace1, trace2]\n",
    "\n",
    "layout = go.Layout(\n",
    "    title='Distribuição das distâncias',\n",
    "    xaxis=dict(\n",
    "        title='Distância'\n",
    "    ),\n",
    "    yaxis=dict(\n",
    "        title='Proporção de pares de indivíduos'\n",
    "    )\n",
    ")\n",
    "\n",
    "fig = go.Figure(data=data, layout=layout)\n",
    "iplot(fig)"
   ]
  },
  {
   "cell_type": "markdown",
   "metadata": {},
   "source": [
    "## III) Análise dos padrões de resposta obtidas pela Subjetiva e Edmonton"
   ]
  },
  {
   "cell_type": "markdown",
   "metadata": {},
   "source": [
    "### Subjetiva"
   ]
  },
  {
   "cell_type": "code",
   "execution_count": 98,
   "metadata": {},
   "outputs": [],
   "source": [
    "def getClass(aval, vet_ans):\n",
    "    score = np.nansum(array)\n",
    "    \n",
    "    if aval == 'subjetiva':\n",
    "        if vet_ans[4]==1 and vet_ans[5]==1:\n",
    "            score -= 1\n",
    "        if score == 0:\n",
    "            return 'N'\n",
    "        elif score < 3:\n",
    "            return 'P'\n",
    "        else:\n",
    "            return 'F'\n",
    "    else:\n",
    "        # Não apresenta fragilidade\n",
    "        if score <= 4:\n",
    "            return 'N'\n",
    "        # Aparentemente vulnerável\n",
    "        elif score <= 6:\n",
    "            return 'V'\n",
    "        # Fragilidade leve\n",
    "        elif score <= 8:\n",
    "            return 'L'\n",
    "        # Fragilidade moderada\n",
    "        elif score <= 10:\n",
    "            return 'M'\n",
    "        # Fragilidade severa\n",
    "        else:\n",
    "            return 'S'"
   ]
  },
  {
   "cell_type": "code",
   "execution_count": 47,
   "metadata": {},
   "outputs": [],
   "source": [
    "sub_pad = {'Frágil' : [[], []], 'Pré-frágil' : [[], []], 'Não frágil' : [[], []]}\n",
    "query = 'subjetiva_q1=={} and subjetiva_q2=={} and subjetiva_q3=={} and subjetiva_q4=={} and subjetiva_q5=={} and subjetiva_q6=={}'\n",
    "                        \n",
    "# todas as possíveis combinações de pontuação para a Subjetiva\n",
    "for i0 in range(2):\n",
    "    for i1 in range(2):\n",
    "        for i2 in range(2):\n",
    "            for i3 in range(2):\n",
    "                for i4 in range(2):\n",
    "                    for i5 in range(2):\n",
    "                        \n",
    "                        qtd = df_answ.fillna(0).query(query.format(i0, i1, i2, i3, i4, i5)).shape[0]\n",
    "                        array = [i0, i1, i2, i3, i4, i5]\n",
    "                        classe = getClass('subjetiva', array)\n",
    "                        \n",
    "                        if classe == 'N':\n",
    "                            sub_pad['Não frágil'][0].append(qtd)\n",
    "                            sub_pad['Não frágil'][1].append(array)\n",
    "                        elif classe == 'P':\n",
    "                            sub_pad['Pré-frágil'][0].append(qtd)\n",
    "                            sub_pad['Pré-frágil'][1].append(array)\n",
    "                        else:\n",
    "                            sub_pad['Frágil'][0].append(qtd)\n",
    "                            sub_pad['Frágil'][1].append(array)"
   ]
  },
  {
   "cell_type": "code",
   "execution_count": 149,
   "metadata": {},
   "outputs": [
    {
     "data": {
      "application/vnd.plotly.v1+json": {
       "data": [
        {
         "type": "bar",
         "uid": "c7b69b44-d249-11e8-b3ef-5cc9d3123360",
         "x": [
          "Frágil",
          "Pré-frágil",
          "Não frágil"
         ],
         "y": [
          0.556786703601108,
          0.3878116343490305,
          0.055401662049861494
         ]
        }
       ],
       "layout": {
        "title": "Proporção de indivíduos por classe na Subjetiva",
        "xaxis": {
         "title": "Classe"
        },
        "yaxis": {
         "title": "Proporção de indivíduos"
        }
       }
      },
      "text/html": [
       "<div id=\"282cf157-9780-437f-a7fe-f54fdf269124\" style=\"height: 525px; width: 100%;\" class=\"plotly-graph-div\"></div><script type=\"text/javascript\">require([\"plotly\"], function(Plotly) { window.PLOTLYENV=window.PLOTLYENV || {};window.PLOTLYENV.BASE_URL=\"https://plot.ly\";Plotly.newPlot(\"282cf157-9780-437f-a7fe-f54fdf269124\", [{\"x\": [\"Fr\\u00e1gil\", \"Pr\\u00e9-fr\\u00e1gil\", \"N\\u00e3o fr\\u00e1gil\"], \"y\": [0.556786703601108, 0.3878116343490305, 0.055401662049861494], \"uid\": \"c7b69b44-d249-11e8-b3ef-5cc9d3123360\", \"type\": \"bar\"}], {\"xaxis\": {\"title\": \"Classe\"}, \"title\": \"Propor\\u00e7\\u00e3o de indiv\\u00edduos por classe na Subjetiva\", \"yaxis\": {\"title\": \"Propor\\u00e7\\u00e3o de indiv\\u00edduos\"}}, {\"showLink\": true, \"linkText\": \"Export to plot.ly\"})});</script>"
      ],
      "text/vnd.plotly.v1+html": [
       "<div id=\"282cf157-9780-437f-a7fe-f54fdf269124\" style=\"height: 525px; width: 100%;\" class=\"plotly-graph-div\"></div><script type=\"text/javascript\">require([\"plotly\"], function(Plotly) { window.PLOTLYENV=window.PLOTLYENV || {};window.PLOTLYENV.BASE_URL=\"https://plot.ly\";Plotly.newPlot(\"282cf157-9780-437f-a7fe-f54fdf269124\", [{\"x\": [\"Fr\\u00e1gil\", \"Pr\\u00e9-fr\\u00e1gil\", \"N\\u00e3o fr\\u00e1gil\"], \"y\": [0.556786703601108, 0.3878116343490305, 0.055401662049861494], \"uid\": \"c7b69b44-d249-11e8-b3ef-5cc9d3123360\", \"type\": \"bar\"}], {\"xaxis\": {\"title\": \"Classe\"}, \"title\": \"Propor\\u00e7\\u00e3o de indiv\\u00edduos por classe na Subjetiva\", \"yaxis\": {\"title\": \"Propor\\u00e7\\u00e3o de indiv\\u00edduos\"}}, {\"showLink\": true, \"linkText\": \"Export to plot.ly\"})});</script>"
      ]
     },
     "metadata": {},
     "output_type": "display_data"
    }
   ],
   "source": [
    "classes = ['Frágil', 'Pré-frágil', 'Não frágil']\n",
    "\n",
    "data = [go.Bar(\n",
    "            x=classes,\n",
    "            y=[sum(sub_pad[k][0])/n_inst for k in classes]\n",
    "    )]\n",
    "\n",
    "layout = go.Layout(\n",
    "    title='Proporção de indivíduos por classe na Subjetiva',\n",
    "    xaxis=dict(\n",
    "        title='Classe'\n",
    "    ),\n",
    "    yaxis=dict(\n",
    "        title='Proporção de indivíduos'\n",
    "    )\n",
    ")\n",
    "\n",
    "fig = go.Figure(data=data, layout=layout)\n",
    "iplot(fig)"
   ]
  },
  {
   "cell_type": "code",
   "execution_count": 152,
   "metadata": {},
   "outputs": [
    {
     "data": {
      "application/vnd.plotly.v1+json": {
       "data": [
        {
         "type": "bar",
         "uid": "e4a0f8bc-d249-11e8-b3ef-5cc9d3123360",
         "x": [
          "[0, 1, 1, 1, 1, 1]",
          "[0, 1, 1, 1, 0, 0]",
          "[0, 1, 1, 1, 1, 0]",
          "[0, 0, 1, 1, 1, 1]",
          "[0, 1, 1, 0, 1, 1]",
          "[0, 1, 1, 0, 1, 0]",
          "[1, 1, 1, 1, 1, 1]",
          "[0, 0, 1, 1, 1, 0]",
          "[0, 0, 1, 1, 0, 1]",
          "[1, 1, 1, 1, 0, 0]",
          "[0, 1, 1, 1, 0, 1]",
          "[0, 1, 0, 1, 1, 1]",
          "[0, 1, 0, 1, 1, 0]",
          "[1, 1, 1, 1, 1, 0]",
          "[1, 1, 1, 0, 1, 1]",
          "[1, 1, 0, 1, 1, 1]",
          "[1, 0, 1, 1, 1, 0]",
          "[1, 1, 0, 1, 1, 0]",
          "[1, 0, 0, 1, 1, 0]",
          "[0, 1, 0, 1, 0, 1]",
          "[1, 1, 1, 0, 1, 0]",
          "[1, 1, 1, 0, 0, 0]",
          "[1, 1, 0, 1, 0, 1]",
          "[1, 1, 0, 1, 0, 0]",
          "[1, 1, 0, 0, 1, 0]",
          "[1, 0, 1, 1, 1, 1]",
          "[1, 0, 1, 1, 0, 1]",
          "[1, 0, 1, 0, 1, 0]",
          "[1, 0, 0, 1, 1, 1]",
          "[1, 1, 1, 1, 0, 1]",
          "[1, 1, 1, 0, 0, 1]",
          "[1, 1, 0, 0, 1, 1]",
          "[1, 1, 0, 0, 0, 1]",
          "[1, 0, 1, 1, 0, 0]",
          "[1, 0, 1, 0, 1, 1]",
          "[1, 0, 1, 0, 0, 1]",
          "[1, 0, 0, 1, 0, 1]",
          "[0, 1, 1, 0, 0, 1]"
         ],
         "xaxis": "x",
         "y": [
          47,
          21,
          20,
          20,
          10,
          9,
          8,
          7,
          7,
          6,
          6,
          5,
          5,
          4,
          4,
          4,
          3,
          2,
          2,
          2,
          1,
          1,
          1,
          1,
          1,
          1,
          1,
          1,
          1,
          0,
          0,
          0,
          0,
          0,
          0,
          0,
          0,
          0
         ],
         "yaxis": "y"
        },
        {
         "type": "bar",
         "uid": "e4a0f8bd-d249-11e8-b3ef-5cc9d3123360",
         "x": [
          "[0, 0, 0, 0, 1, 1]",
          "[0, 1, 0, 0, 0, 0]",
          "[0, 0, 1, 1, 0, 0]",
          "[0, 0, 1, 0, 0, 0]",
          "[0, 0, 0, 1, 1, 1]",
          "[0, 0, 0, 1, 0, 0]",
          "[0, 0, 0, 0, 1, 0]",
          "[0, 1, 1, 0, 0, 0]",
          "[0, 1, 0, 0, 1, 1]",
          "[0, 1, 0, 0, 1, 0]",
          "[0, 0, 1, 0, 1, 1]",
          "[0, 1, 0, 1, 0, 0]",
          "[0, 1, 0, 0, 0, 1]",
          "[0, 0, 0, 1, 1, 0]",
          "[1, 1, 0, 0, 0, 0]",
          "[1, 0, 0, 0, 0, 0]",
          "[0, 0, 1, 0, 1, 0]",
          "[1, 0, 0, 1, 0, 0]",
          "[0, 0, 0, 0, 0, 1]",
          "[1, 0, 1, 0, 0, 0]",
          "[1, 0, 0, 0, 1, 1]",
          "[1, 0, 0, 0, 1, 0]",
          "[1, 0, 0, 0, 0, 1]",
          "[0, 0, 1, 0, 0, 1]",
          "[0, 0, 0, 1, 0, 1]"
         ],
         "xaxis": "x2",
         "y": [
          21,
          15,
          14,
          10,
          9,
          9,
          9,
          8,
          7,
          5,
          5,
          4,
          4,
          4,
          3,
          3,
          3,
          2,
          2,
          1,
          1,
          1,
          0,
          0,
          0
         ],
         "yaxis": "y2"
        },
        {
         "type": "bar",
         "uid": "e4a0f8be-d249-11e8-b3ef-5cc9d3123360",
         "x": [
          "[0, 0, 0, 0, 0, 0]"
         ],
         "xaxis": "x3",
         "y": [
          20
         ],
         "yaxis": "y3"
        }
       ],
       "layout": {
        "annotations": [
         {
          "font": {
           "size": 16
          },
          "showarrow": false,
          "text": "Frágil",
          "x": 0.5,
          "xanchor": "center",
          "xref": "paper",
          "y": 1,
          "yanchor": "bottom",
          "yref": "paper"
         },
         {
          "font": {
           "size": 16
          },
          "showarrow": false,
          "text": "Pré-frágil",
          "x": 0.5,
          "xanchor": "center",
          "xref": "paper",
          "y": 0.6111111111111112,
          "yanchor": "bottom",
          "yref": "paper"
         },
         {
          "font": {
           "size": 16
          },
          "showarrow": false,
          "text": "Não frágil",
          "x": 0.5,
          "xanchor": "center",
          "xref": "paper",
          "y": 0.22222222222222224,
          "yanchor": "bottom",
          "yref": "paper"
         }
        ],
        "height": 900,
        "showlegend": false,
        "title": "Padrões de pontuação por classe na Subjetiva",
        "xaxis": {
         "anchor": "y",
         "domain": [
          0,
          1
         ]
        },
        "xaxis2": {
         "anchor": "y2",
         "domain": [
          0,
          1
         ]
        },
        "xaxis3": {
         "anchor": "y3",
         "domain": [
          0,
          1
         ]
        },
        "yaxis": {
         "anchor": "x",
         "domain": [
          0.7777777777777778,
          1
         ]
        },
        "yaxis2": {
         "anchor": "x2",
         "domain": [
          0.3888888888888889,
          0.6111111111111112
         ]
        },
        "yaxis3": {
         "anchor": "x3",
         "domain": [
          0,
          0.22222222222222224
         ]
        }
       }
      },
      "text/html": [
       "<div id=\"6c62354b-0b35-4c96-98bf-a650eb8ec7c8\" style=\"height: 900px; width: 100%;\" class=\"plotly-graph-div\"></div><script type=\"text/javascript\">require([\"plotly\"], function(Plotly) { window.PLOTLYENV=window.PLOTLYENV || {};window.PLOTLYENV.BASE_URL=\"https://plot.ly\";Plotly.newPlot(\"6c62354b-0b35-4c96-98bf-a650eb8ec7c8\", [{\"x\": [\"[0, 1, 1, 1, 1, 1]\", \"[0, 1, 1, 1, 0, 0]\", \"[0, 1, 1, 1, 1, 0]\", \"[0, 0, 1, 1, 1, 1]\", \"[0, 1, 1, 0, 1, 1]\", \"[0, 1, 1, 0, 1, 0]\", \"[1, 1, 1, 1, 1, 1]\", \"[0, 0, 1, 1, 1, 0]\", \"[0, 0, 1, 1, 0, 1]\", \"[1, 1, 1, 1, 0, 0]\", \"[0, 1, 1, 1, 0, 1]\", \"[0, 1, 0, 1, 1, 1]\", \"[0, 1, 0, 1, 1, 0]\", \"[1, 1, 1, 1, 1, 0]\", \"[1, 1, 1, 0, 1, 1]\", \"[1, 1, 0, 1, 1, 1]\", \"[1, 0, 1, 1, 1, 0]\", \"[1, 1, 0, 1, 1, 0]\", \"[1, 0, 0, 1, 1, 0]\", \"[0, 1, 0, 1, 0, 1]\", \"[1, 1, 1, 0, 1, 0]\", \"[1, 1, 1, 0, 0, 0]\", \"[1, 1, 0, 1, 0, 1]\", \"[1, 1, 0, 1, 0, 0]\", \"[1, 1, 0, 0, 1, 0]\", \"[1, 0, 1, 1, 1, 1]\", \"[1, 0, 1, 1, 0, 1]\", \"[1, 0, 1, 0, 1, 0]\", \"[1, 0, 0, 1, 1, 1]\", \"[1, 1, 1, 1, 0, 1]\", \"[1, 1, 1, 0, 0, 1]\", \"[1, 1, 0, 0, 1, 1]\", \"[1, 1, 0, 0, 0, 1]\", \"[1, 0, 1, 1, 0, 0]\", \"[1, 0, 1, 0, 1, 1]\", \"[1, 0, 1, 0, 0, 1]\", \"[1, 0, 0, 1, 0, 1]\", \"[0, 1, 1, 0, 0, 1]\"], \"yaxis\": \"y\", \"y\": [47, 21, 20, 20, 10, 9, 8, 7, 7, 6, 6, 5, 5, 4, 4, 4, 3, 2, 2, 2, 1, 1, 1, 1, 1, 1, 1, 1, 1, 0, 0, 0, 0, 0, 0, 0, 0, 0], \"type\": \"bar\", \"xaxis\": \"x\", \"uid\": \"e4a0f8bc-d249-11e8-b3ef-5cc9d3123360\"}, {\"x\": [\"[0, 0, 0, 0, 1, 1]\", \"[0, 1, 0, 0, 0, 0]\", \"[0, 0, 1, 1, 0, 0]\", \"[0, 0, 1, 0, 0, 0]\", \"[0, 0, 0, 1, 1, 1]\", \"[0, 0, 0, 1, 0, 0]\", \"[0, 0, 0, 0, 1, 0]\", \"[0, 1, 1, 0, 0, 0]\", \"[0, 1, 0, 0, 1, 1]\", \"[0, 1, 0, 0, 1, 0]\", \"[0, 0, 1, 0, 1, 1]\", \"[0, 1, 0, 1, 0, 0]\", \"[0, 1, 0, 0, 0, 1]\", \"[0, 0, 0, 1, 1, 0]\", \"[1, 1, 0, 0, 0, 0]\", \"[1, 0, 0, 0, 0, 0]\", \"[0, 0, 1, 0, 1, 0]\", \"[1, 0, 0, 1, 0, 0]\", \"[0, 0, 0, 0, 0, 1]\", \"[1, 0, 1, 0, 0, 0]\", \"[1, 0, 0, 0, 1, 1]\", \"[1, 0, 0, 0, 1, 0]\", \"[1, 0, 0, 0, 0, 1]\", \"[0, 0, 1, 0, 0, 1]\", \"[0, 0, 0, 1, 0, 1]\"], \"yaxis\": \"y2\", \"y\": [21, 15, 14, 10, 9, 9, 9, 8, 7, 5, 5, 4, 4, 4, 3, 3, 3, 2, 2, 1, 1, 1, 0, 0, 0], \"type\": \"bar\", \"xaxis\": \"x2\", \"uid\": \"e4a0f8bd-d249-11e8-b3ef-5cc9d3123360\"}, {\"x\": [\"[0, 0, 0, 0, 0, 0]\"], \"yaxis\": \"y3\", \"y\": [20], \"type\": \"bar\", \"xaxis\": \"x3\", \"uid\": \"e4a0f8be-d249-11e8-b3ef-5cc9d3123360\"}], {\"xaxis2\": {\"anchor\": \"y2\", \"domain\": [0.0, 1.0]}, \"annotations\": [{\"showarrow\": false, \"xanchor\": \"center\", \"x\": 0.5, \"yref\": \"paper\", \"font\": {\"size\": 16}, \"text\": \"Fr\\u00e1gil\", \"xref\": \"paper\", \"y\": 1.0, \"yanchor\": \"bottom\"}, {\"showarrow\": false, \"xanchor\": \"center\", \"x\": 0.5, \"yref\": \"paper\", \"font\": {\"size\": 16}, \"text\": \"Pr\\u00e9-fr\\u00e1gil\", \"xref\": \"paper\", \"y\": 0.6111111111111112, \"yanchor\": \"bottom\"}, {\"showarrow\": false, \"xanchor\": \"center\", \"x\": 0.5, \"yref\": \"paper\", \"font\": {\"size\": 16}, \"text\": \"N\\u00e3o fr\\u00e1gil\", \"xref\": \"paper\", \"y\": 0.22222222222222224, \"yanchor\": \"bottom\"}], \"yaxis\": {\"anchor\": \"x\", \"domain\": [0.7777777777777778, 1.0]}, \"height\": 900, \"yaxis2\": {\"anchor\": \"x2\", \"domain\": [0.3888888888888889, 0.6111111111111112]}, \"yaxis3\": {\"anchor\": \"x3\", \"domain\": [0.0, 0.22222222222222224]}, \"showlegend\": false, \"xaxis\": {\"anchor\": \"y\", \"domain\": [0.0, 1.0]}, \"title\": \"Padr\\u00f5es de pontua\\u00e7\\u00e3o por classe na Subjetiva\", \"xaxis3\": {\"anchor\": \"y3\", \"domain\": [0.0, 1.0]}}, {\"showLink\": true, \"linkText\": \"Export to plot.ly\"})});</script>"
      ],
      "text/vnd.plotly.v1+html": [
       "<div id=\"6c62354b-0b35-4c96-98bf-a650eb8ec7c8\" style=\"height: 900px; width: 100%;\" class=\"plotly-graph-div\"></div><script type=\"text/javascript\">require([\"plotly\"], function(Plotly) { window.PLOTLYENV=window.PLOTLYENV || {};window.PLOTLYENV.BASE_URL=\"https://plot.ly\";Plotly.newPlot(\"6c62354b-0b35-4c96-98bf-a650eb8ec7c8\", [{\"x\": [\"[0, 1, 1, 1, 1, 1]\", \"[0, 1, 1, 1, 0, 0]\", \"[0, 1, 1, 1, 1, 0]\", \"[0, 0, 1, 1, 1, 1]\", \"[0, 1, 1, 0, 1, 1]\", \"[0, 1, 1, 0, 1, 0]\", \"[1, 1, 1, 1, 1, 1]\", \"[0, 0, 1, 1, 1, 0]\", \"[0, 0, 1, 1, 0, 1]\", \"[1, 1, 1, 1, 0, 0]\", \"[0, 1, 1, 1, 0, 1]\", \"[0, 1, 0, 1, 1, 1]\", \"[0, 1, 0, 1, 1, 0]\", \"[1, 1, 1, 1, 1, 0]\", \"[1, 1, 1, 0, 1, 1]\", \"[1, 1, 0, 1, 1, 1]\", \"[1, 0, 1, 1, 1, 0]\", \"[1, 1, 0, 1, 1, 0]\", \"[1, 0, 0, 1, 1, 0]\", \"[0, 1, 0, 1, 0, 1]\", \"[1, 1, 1, 0, 1, 0]\", \"[1, 1, 1, 0, 0, 0]\", \"[1, 1, 0, 1, 0, 1]\", \"[1, 1, 0, 1, 0, 0]\", \"[1, 1, 0, 0, 1, 0]\", \"[1, 0, 1, 1, 1, 1]\", \"[1, 0, 1, 1, 0, 1]\", \"[1, 0, 1, 0, 1, 0]\", \"[1, 0, 0, 1, 1, 1]\", \"[1, 1, 1, 1, 0, 1]\", \"[1, 1, 1, 0, 0, 1]\", \"[1, 1, 0, 0, 1, 1]\", \"[1, 1, 0, 0, 0, 1]\", \"[1, 0, 1, 1, 0, 0]\", \"[1, 0, 1, 0, 1, 1]\", \"[1, 0, 1, 0, 0, 1]\", \"[1, 0, 0, 1, 0, 1]\", \"[0, 1, 1, 0, 0, 1]\"], \"yaxis\": \"y\", \"y\": [47, 21, 20, 20, 10, 9, 8, 7, 7, 6, 6, 5, 5, 4, 4, 4, 3, 2, 2, 2, 1, 1, 1, 1, 1, 1, 1, 1, 1, 0, 0, 0, 0, 0, 0, 0, 0, 0], \"type\": \"bar\", \"xaxis\": \"x\", \"uid\": \"e4a0f8bc-d249-11e8-b3ef-5cc9d3123360\"}, {\"x\": [\"[0, 0, 0, 0, 1, 1]\", \"[0, 1, 0, 0, 0, 0]\", \"[0, 0, 1, 1, 0, 0]\", \"[0, 0, 1, 0, 0, 0]\", \"[0, 0, 0, 1, 1, 1]\", \"[0, 0, 0, 1, 0, 0]\", \"[0, 0, 0, 0, 1, 0]\", \"[0, 1, 1, 0, 0, 0]\", \"[0, 1, 0, 0, 1, 1]\", \"[0, 1, 0, 0, 1, 0]\", \"[0, 0, 1, 0, 1, 1]\", \"[0, 1, 0, 1, 0, 0]\", \"[0, 1, 0, 0, 0, 1]\", \"[0, 0, 0, 1, 1, 0]\", \"[1, 1, 0, 0, 0, 0]\", \"[1, 0, 0, 0, 0, 0]\", \"[0, 0, 1, 0, 1, 0]\", \"[1, 0, 0, 1, 0, 0]\", \"[0, 0, 0, 0, 0, 1]\", \"[1, 0, 1, 0, 0, 0]\", \"[1, 0, 0, 0, 1, 1]\", \"[1, 0, 0, 0, 1, 0]\", \"[1, 0, 0, 0, 0, 1]\", \"[0, 0, 1, 0, 0, 1]\", \"[0, 0, 0, 1, 0, 1]\"], \"yaxis\": \"y2\", \"y\": [21, 15, 14, 10, 9, 9, 9, 8, 7, 5, 5, 4, 4, 4, 3, 3, 3, 2, 2, 1, 1, 1, 0, 0, 0], \"type\": \"bar\", \"xaxis\": \"x2\", \"uid\": \"e4a0f8bd-d249-11e8-b3ef-5cc9d3123360\"}, {\"x\": [\"[0, 0, 0, 0, 0, 0]\"], \"yaxis\": \"y3\", \"y\": [20], \"type\": \"bar\", \"xaxis\": \"x3\", \"uid\": \"e4a0f8be-d249-11e8-b3ef-5cc9d3123360\"}], {\"xaxis2\": {\"anchor\": \"y2\", \"domain\": [0.0, 1.0]}, \"annotations\": [{\"showarrow\": false, \"xanchor\": \"center\", \"x\": 0.5, \"yref\": \"paper\", \"font\": {\"size\": 16}, \"text\": \"Fr\\u00e1gil\", \"xref\": \"paper\", \"y\": 1.0, \"yanchor\": \"bottom\"}, {\"showarrow\": false, \"xanchor\": \"center\", \"x\": 0.5, \"yref\": \"paper\", \"font\": {\"size\": 16}, \"text\": \"Pr\\u00e9-fr\\u00e1gil\", \"xref\": \"paper\", \"y\": 0.6111111111111112, \"yanchor\": \"bottom\"}, {\"showarrow\": false, \"xanchor\": \"center\", \"x\": 0.5, \"yref\": \"paper\", \"font\": {\"size\": 16}, \"text\": \"N\\u00e3o fr\\u00e1gil\", \"xref\": \"paper\", \"y\": 0.22222222222222224, \"yanchor\": \"bottom\"}], \"yaxis\": {\"anchor\": \"x\", \"domain\": [0.7777777777777778, 1.0]}, \"height\": 900, \"yaxis2\": {\"anchor\": \"x2\", \"domain\": [0.3888888888888889, 0.6111111111111112]}, \"yaxis3\": {\"anchor\": \"x3\", \"domain\": [0.0, 0.22222222222222224]}, \"showlegend\": false, \"xaxis\": {\"anchor\": \"y\", \"domain\": [0.0, 1.0]}, \"title\": \"Padr\\u00f5es de pontua\\u00e7\\u00e3o por classe na Subjetiva\", \"xaxis3\": {\"anchor\": \"y3\", \"domain\": [0.0, 1.0]}}, {\"showLink\": true, \"linkText\": \"Export to plot.ly\"})});</script>"
      ]
     },
     "metadata": {},
     "output_type": "display_data"
    }
   ],
   "source": [
    "traces = []\n",
    "for k in classes:\n",
    "\n",
    "    l1, l2 = zip(*sorted(zip(sub_pad[k][0], map(str, sub_pad[k][1])), reverse=True))\n",
    "\n",
    "    traces.append(go.Bar(\n",
    "        x = l2,\n",
    "        y = [y for y in l1]\n",
    "    ))\n",
    "\n",
    "fig = tools.make_subplots(rows=3, cols=1, subplot_titles=classes, print_grid=False)\n",
    "\n",
    "for i, t in enumerate(traces):\n",
    "    fig.append_trace(t, i+1, 1)\n",
    "\n",
    "fig['layout'].update(height=900, \n",
    "                     title='Quantidade de indivíduos por padrão de pontuação por classe na Subjetiva', \n",
    "                     showlegend=False)\n",
    "\n",
    "iplot(fig)"
   ]
  },
  {
   "cell_type": "markdown",
   "metadata": {},
   "source": [
    "### Edmonton"
   ]
  },
  {
   "cell_type": "code",
   "execution_count": 159,
   "metadata": {},
   "outputs": [],
   "source": [
    "edm_pad = {'Severa' : [[], []], 'Moderada' : [[], []], 'Leve' : [[], []], 'Vulnerável' : [[], []], 'Não frágil' : [[], []]}\n",
    "query = 'edmonton_q1=={} and edmonton_q2_b=={} and edmonton_q2_a=={} and edmonton_q3=={} and edmonton_q4=={} and edmonton_q5_a=={} and edmonton_q5_b=={} and edmonton_q6=={} and edmonton_q7=={} and edmonton_q8=={} and edmonton_q9=={}'               \n",
    "\n",
    "# todas as possíveis combinações de pontuação para a Edmonton\n",
    "for i0 in range(3):#3\n",
    "    for i1 in range(3):#3\n",
    "        for i2 in range(3):#3\n",
    "            for i3 in range(3):#3\n",
    "                for i4 in range(3):#3\n",
    "                    for i5 in range(2):\n",
    "                        for i6 in range(2):\n",
    "                            for i7 in range(2):\n",
    "                                for i8 in range(2):\n",
    "                                    for i9 in range(2):\n",
    "                                        for i10 in range(3):#3\n",
    "                        \n",
    "                                            qtd = df_answ.fillna(0).query(query.format(i0, i1, i2, i3, i4, i5, i6, i7, i8, i9, i10)).shape[0]\n",
    "                                            array = [i0, i1, i2, i3, i4, i5, i6, i7, i8, i9, i10]\n",
    "                                            classe = getClass('edmonton', array)\n",
    "                                    \n",
    "                                            if qtd > 0:                                                \n",
    "                                                # Não apresenta fragilidade\n",
    "                                                if classe == 'N':\n",
    "                                                    edm_pad['Não frágil'][0].append(qtd)\n",
    "                                                    edm_pad['Não frágil'][1].append(array)\n",
    "\n",
    "                                                # Aparentemente vulnerável\n",
    "                                                elif classe == 'V':\n",
    "                                                    edm_pad['Vulnerável'][0].append(qtd)\n",
    "                                                    edm_pad['Vulnerável'][1].append(array)\n",
    "\n",
    "                                                # Fragilidade leve\n",
    "                                                elif classe == 'L':\n",
    "                                                    edm_pad['Leve'][0].append(qtd)\n",
    "                                                    edm_pad['Leve'][1].append(array)\n",
    "\n",
    "                                                # Fragilidade moderada\n",
    "                                                elif classe == 'M':\n",
    "                                                    edm_pad['Moderada'][0].append(qtd)\n",
    "                                                    edm_pad['Moderada'][1].append(array)\n",
    "\n",
    "                                                # Fragilidade severa\n",
    "                                                else:\n",
    "                                                    edm_pad['Severa'][0].append(qtd)\n",
    "                                                    edm_pad['Severa'][1].append(array)"
   ]
  },
  {
   "cell_type": "code",
   "execution_count": 160,
   "metadata": {},
   "outputs": [
    {
     "data": {
      "application/vnd.plotly.v1+json": {
       "data": [
        {
         "type": "bar",
         "uid": "fce8ea62-d24c-11e8-b3ef-5cc9d3123360",
         "x": [
          "Severa",
          "Moderada",
          "Leve",
          "Vulnerável",
          "Não frágil"
         ],
         "y": [
          0.0221606648199446,
          0.10526315789473684,
          0.18282548476454294,
          0.31024930747922436,
          0.37950138504155123
         ]
        }
       ],
       "layout": {
        "title": "Proporção de indivíduos por classe na Edmonton",
        "xaxis": {
         "title": "Classe"
        },
        "yaxis": {
         "title": "Proporção de indivíduos"
        }
       }
      },
      "text/html": [
       "<div id=\"ef85c31b-86ec-461b-915a-dcada29c69d5\" style=\"height: 525px; width: 100%;\" class=\"plotly-graph-div\"></div><script type=\"text/javascript\">require([\"plotly\"], function(Plotly) { window.PLOTLYENV=window.PLOTLYENV || {};window.PLOTLYENV.BASE_URL=\"https://plot.ly\";Plotly.newPlot(\"ef85c31b-86ec-461b-915a-dcada29c69d5\", [{\"x\": [\"Severa\", \"Moderada\", \"Leve\", \"Vulner\\u00e1vel\", \"N\\u00e3o fr\\u00e1gil\"], \"y\": [0.0221606648199446, 0.10526315789473684, 0.18282548476454294, 0.31024930747922436, 0.37950138504155123], \"uid\": \"fce8ea62-d24c-11e8-b3ef-5cc9d3123360\", \"type\": \"bar\"}], {\"xaxis\": {\"title\": \"Classe\"}, \"title\": \"Propor\\u00e7\\u00e3o de indiv\\u00edduos por classe na Edmonton\", \"yaxis\": {\"title\": \"Propor\\u00e7\\u00e3o de indiv\\u00edduos\"}}, {\"showLink\": true, \"linkText\": \"Export to plot.ly\"})});</script>"
      ],
      "text/vnd.plotly.v1+html": [
       "<div id=\"ef85c31b-86ec-461b-915a-dcada29c69d5\" style=\"height: 525px; width: 100%;\" class=\"plotly-graph-div\"></div><script type=\"text/javascript\">require([\"plotly\"], function(Plotly) { window.PLOTLYENV=window.PLOTLYENV || {};window.PLOTLYENV.BASE_URL=\"https://plot.ly\";Plotly.newPlot(\"ef85c31b-86ec-461b-915a-dcada29c69d5\", [{\"x\": [\"Severa\", \"Moderada\", \"Leve\", \"Vulner\\u00e1vel\", \"N\\u00e3o fr\\u00e1gil\"], \"y\": [0.0221606648199446, 0.10526315789473684, 0.18282548476454294, 0.31024930747922436, 0.37950138504155123], \"uid\": \"fce8ea62-d24c-11e8-b3ef-5cc9d3123360\", \"type\": \"bar\"}], {\"xaxis\": {\"title\": \"Classe\"}, \"title\": \"Propor\\u00e7\\u00e3o de indiv\\u00edduos por classe na Edmonton\", \"yaxis\": {\"title\": \"Propor\\u00e7\\u00e3o de indiv\\u00edduos\"}}, {\"showLink\": true, \"linkText\": \"Export to plot.ly\"})});</script>"
      ]
     },
     "metadata": {},
     "output_type": "display_data"
    }
   ],
   "source": [
    "classes = ['Severa', 'Moderada', 'Leve', 'Vulnerável', 'Não frágil']\n",
    "\n",
    "data = [go.Bar(\n",
    "            x=classes,\n",
    "            y=[sum(edm_pad[k][0])/n_inst for k in classes]\n",
    "    )]\n",
    "\n",
    "layout = go.Layout(\n",
    "    title='Proporção de indivíduos por classe na Edmonton',\n",
    "    xaxis=dict(\n",
    "        title='Classe'\n",
    "    ),\n",
    "    yaxis=dict(\n",
    "        title='Proporção de indivíduos'\n",
    "    )\n",
    ")\n",
    "\n",
    "fig = go.Figure(data=data, layout=layout)\n",
    "iplot(fig)"
   ]
  },
  {
   "cell_type": "code",
   "execution_count": 162,
   "metadata": {
    "scrolled": false
   },
   "outputs": [
    {
     "data": {
      "application/vnd.plotly.v1+json": {
       "data": [
        {
         "name": "Severa",
         "type": "bar",
         "uid": "38533580-d24d-11e8-b3ef-5cc9d3123360",
         "x": [
          "[2, 2, 2, 1, 0, 1, 1, 0, 1, 1, 0]",
          "[2, 2, 2, 0, 1, 1, 1, 0, 0, 1, 2]",
          "[2, 1, 2, 1, 1, 1, 1, 1, 1, 1, 0]",
          "[2, 1, 2, 1, 1, 1, 0, 1, 0, 1, 2]",
          "[2, 1, 2, 1, 1, 1, 0, 0, 1, 1, 2]",
          "[2, 1, 2, 1, 0, 1, 1, 1, 0, 1, 1]",
          "[2, 1, 1, 0, 1, 1, 1, 1, 0, 1, 2]",
          "[2, 0, 1, 1, 1, 0, 1, 1, 1, 1, 2]"
         ],
         "xaxis": "x",
         "y": [
          1,
          1,
          1,
          1,
          1,
          1,
          1,
          1
         ],
         "yaxis": "y"
        },
        {
         "name": "Moderada",
         "type": "bar",
         "uid": "38533581-d24d-11e8-b3ef-5cc9d3123360",
         "x": [
          "[2, 2, 1, 0, 0, 1, 1, 1, 1, 0, 1]",
          "[2, 2, 1, 0, 0, 1, 0, 1, 1, 1, 1]",
          "[2, 1, 2, 1, 1, 1, 0, 0, 1, 1, 0]",
          "[2, 1, 2, 0, 0, 1, 1, 0, 1, 0, 1]",
          "[2, 1, 2, 0, 0, 1, 0, 1, 0, 1, 1]",
          "[2, 1, 1, 1, 1, 1, 1, 0, 0, 1, 0]",
          "[2, 1, 1, 1, 1, 1, 0, 0, 1, 1, 0]",
          "[2, 1, 1, 0, 1, 1, 1, 1, 0, 0, 2]",
          "[2, 1, 1, 0, 1, 0, 0, 1, 0, 1, 2]",
          "[2, 1, 1, 0, 0, 1, 1, 1, 1, 0, 1]",
          "[2, 1, 1, 0, 0, 0, 1, 1, 1, 1, 1]",
          "[2, 1, 0, 1, 1, 0, 1, 1, 0, 1, 2]",
          "[2, 1, 0, 1, 1, 0, 1, 0, 0, 1, 2]",
          "[2, 0, 2, 1, 1, 1, 1, 1, 0, 1, 0]",
          "[2, 0, 2, 1, 1, 1, 0, 0, 1, 1, 1]",
          "[2, 0, 2, 1, 1, 0, 1, 0, 1, 0, 1]",
          "[2, 0, 2, 1, 0, 1, 0, 0, 1, 1, 1]",
          "[2, 0, 2, 0, 1, 1, 1, 1, 1, 0, 0]",
          "[2, 0, 2, 0, 1, 1, 0, 1, 1, 1, 0]",
          "[2, 0, 2, 0, 1, 1, 0, 1, 1, 0, 1]",
          "[2, 0, 2, 0, 1, 0, 1, 1, 1, 0, 1]",
          "[2, 0, 2, 0, 1, 0, 1, 0, 1, 1, 2]",
          "[2, 0, 2, 0, 0, 1, 1, 1, 1, 1, 0]",
          "[2, 0, 2, 0, 0, 1, 0, 0, 1, 1, 2]",
          "[2, 0, 1, 1, 1, 1, 1, 1, 0, 0, 2]",
          "[2, 0, 1, 1, 1, 1, 0, 0, 1, 0, 2]",
          "[2, 0, 1, 1, 1, 1, 0, 0, 0, 1, 2]",
          "[2, 0, 1, 1, 1, 0, 0, 0, 1, 1, 2]",
          "[2, 0, 1, 0, 1, 1, 1, 1, 1, 1, 1]",
          "[2, 0, 1, 0, 1, 1, 1, 1, 1, 0, 1]",
          "[2, 0, 1, 0, 1, 1, 1, 1, 0, 1, 1]",
          "[2, 0, 1, 0, 1, 1, 1, 0, 0, 1, 2]",
          "[2, 0, 1, 0, 1, 1, 0, 1, 0, 1, 2]",
          "[2, 0, 1, 0, 0, 1, 1, 1, 1, 1, 1]",
          "[2, 0, 0, 1, 1, 1, 1, 0, 1, 0, 2]",
          "[1, 1, 2, 1, 1, 1, 1, 0, 0, 1, 1]",
          "[1, 0, 2, 2, 1, 0, 0, 1, 1, 1, 1]",
          "[1, 0, 2, 0, 1, 1, 0, 0, 1, 1, 2]"
         ],
         "xaxis": "x2",
         "y": [
          1,
          1,
          1,
          1,
          1,
          1,
          1,
          1,
          1,
          1,
          1,
          1,
          1,
          1,
          1,
          1,
          1,
          1,
          1,
          1,
          1,
          1,
          1,
          1,
          1,
          1,
          1,
          1,
          1,
          1,
          1,
          1,
          1,
          1,
          1,
          1,
          1,
          1
         ],
         "yaxis": "y2"
        },
        {
         "name": "Leve",
         "type": "bar",
         "uid": "38533582-d24d-11e8-b3ef-5cc9d3123360",
         "x": [
          "[2, 0, 1, 0, 0, 1, 1, 1, 0, 0, 1]",
          "[2, 1, 1, 0, 0, 1, 0, 1, 0, 0, 1]",
          "[2, 0, 2, 0, 0, 1, 1, 0, 1, 0, 1]",
          "[2, 0, 2, 0, 0, 1, 0, 0, 0, 1, 1]",
          "[2, 0, 1, 0, 1, 0, 0, 1, 0, 1, 1]",
          "[2, 0, 1, 0, 0, 1, 1, 1, 0, 1, 1]",
          "[2, 0, 1, 0, 0, 1, 0, 0, 1, 1, 1]",
          "[2, 2, 1, 0, 0, 1, 0, 1, 0, 0, 1]",
          "[2, 1, 2, 0, 0, 1, 1, 0, 1, 0, 0]",
          "[2, 1, 2, 0, 0, 0, 0, 0, 0, 1, 1]",
          "[2, 1, 1, 1, 1, 0, 0, 1, 0, 0, 0]",
          "[2, 1, 1, 0, 0, 1, 1, 0, 0, 0, 1]",
          "[2, 1, 1, 0, 0, 0, 1, 0, 0, 1, 1]",
          "[2, 1, 0, 1, 1, 0, 0, 1, 1, 0, 0]",
          "[2, 1, 0, 0, 1, 1, 0, 0, 1, 0, 1]",
          "[2, 0, 2, 1, 1, 1, 0, 0, 0, 1, 0]",
          "[2, 0, 2, 1, 0, 0, 1, 0, 0, 0, 1]",
          "[2, 0, 2, 0, 1, 1, 1, 0, 1, 0, 0]",
          "[2, 0, 2, 0, 1, 0, 1, 0, 1, 1, 0]",
          "[2, 0, 2, 0, 0, 1, 1, 1, 0, 1, 0]",
          "[2, 0, 2, 0, 0, 1, 0, 0, 1, 1, 1]",
          "[2, 0, 2, 0, 0, 1, 0, 0, 1, 0, 2]",
          "[2, 0, 2, 0, 0, 1, 0, 0, 0, 0, 2]",
          "[2, 0, 2, 0, 0, 0, 1, 0, 1, 0, 1]",
          "[2, 0, 2, 0, 0, 0, 0, 0, 1, 1, 1]",
          "[2, 0, 1, 1, 1, 1, 0, 0, 1, 1, 0]",
          "[2, 0, 1, 1, 1, 1, 0, 0, 0, 1, 1]",
          "[2, 0, 1, 1, 1, 0, 0, 1, 0, 1, 0]",
          "[2, 0, 1, 1, 1, 0, 0, 1, 0, 0, 2]",
          "[2, 0, 1, 1, 1, 0, 0, 1, 0, 0, 1]",
          "[2, 0, 1, 1, 1, 0, 0, 0, 1, 0, 2]",
          "[2, 0, 1, 1, 0, 1, 0, 1, 0, 0, 1]",
          "[2, 0, 1, 0, 1, 1, 1, 1, 0, 0, 1]",
          "[2, 0, 1, 0, 1, 1, 1, 0, 0, 1, 1]",
          "[2, 0, 1, 0, 1, 0, 1, 0, 1, 1, 1]",
          "[2, 0, 1, 0, 0, 1, 1, 1, 0, 1, 0]",
          "[2, 0, 1, 0, 0, 1, 1, 0, 1, 1, 0]",
          "[2, 0, 1, 0, 0, 1, 1, 0, 1, 0, 1]",
          "[2, 0, 1, 0, 0, 1, 0, 1, 1, 0, 1]",
          "[2, 0, 1, 0, 0, 1, 0, 1, 0, 1, 1]",
          "[2, 0, 1, 0, 0, 0, 1, 1, 1, 1, 1]",
          "[2, 0, 0, 1, 1, 0, 1, 0, 1, 0, 1]",
          "[2, 0, 0, 1, 1, 0, 1, 0, 0, 1, 2]",
          "[2, 0, 0, 1, 1, 0, 0, 0, 1, 1, 2]",
          "[2, 0, 0, 1, 0, 1, 0, 0, 0, 1, 2]",
          "[2, 0, 0, 0, 1, 1, 0, 0, 1, 1, 2]",
          "[2, 0, 0, 0, 1, 1, 0, 0, 1, 1, 1]",
          "[2, 0, 0, 0, 1, 0, 1, 0, 0, 1, 2]",
          "[2, 0, 0, 0, 0, 1, 1, 1, 0, 1, 2]",
          "[2, 0, 0, 0, 0, 1, 1, 1, 0, 1, 1]",
          "[1, 1, 2, 0, 0, 1, 0, 0, 1, 0, 2]",
          "[1, 0, 2, 0, 0, 0, 1, 1, 1, 1, 1]",
          "[1, 0, 1, 1, 0, 1, 1, 0, 1, 1, 0]",
          "[1, 0, 1, 0, 0, 1, 0, 1, 1, 1, 1]",
          "[0, 1, 1, 0, 1, 1, 0, 0, 1, 1, 1]"
         ],
         "xaxis": "x3",
         "y": [
          5,
          3,
          2,
          2,
          2,
          2,
          2,
          1,
          1,
          1,
          1,
          1,
          1,
          1,
          1,
          1,
          1,
          1,
          1,
          1,
          1,
          1,
          1,
          1,
          1,
          1,
          1,
          1,
          1,
          1,
          1,
          1,
          1,
          1,
          1,
          1,
          1,
          1,
          1,
          1,
          1,
          1,
          1,
          1,
          1,
          1,
          1,
          1,
          1,
          1,
          1,
          1,
          1,
          1,
          1
         ],
         "yaxis": "y3"
        },
        {
         "name": "Vulnerável",
         "type": "bar",
         "uid": "38533583-d24d-11e8-b3ef-5cc9d3123360",
         "x": [
          "[2, 0, 1, 0, 0, 1, 1, 0, 0, 0, 0]",
          "[2, 0, 1, 0, 1, 0, 0, 0, 0, 1, 1]",
          "[2, 0, 1, 0, 0, 1, 1, 0, 0, 0, 1]",
          "[2, 0, 1, 0, 0, 0, 1, 0, 0, 0, 1]",
          "[2, 0, 1, 0, 0, 0, 0, 0, 1, 1, 0]",
          "[2, 0, 1, 0, 0, 0, 0, 0, 1, 0, 1]",
          "[2, 1, 1, 0, 0, 0, 0, 1, 0, 0, 0]",
          "[2, 0, 1, 0, 0, 0, 1, 1, 0, 0, 1]",
          "[2, 0, 1, 0, 0, 0, 1, 0, 0, 1, 1]",
          "[2, 1, 1, 0, 0, 1, 0, 0, 1, 0, 0]",
          "[2, 1, 1, 0, 0, 1, 0, 0, 0, 0, 1]",
          "[2, 1, 1, 0, 0, 0, 1, 0, 0, 0, 1]",
          "[2, 1, 1, 0, 0, 0, 0, 1, 0, 0, 1]",
          "[2, 1, 1, 0, 0, 0, 0, 0, 0, 1, 1]",
          "[2, 1, 0, 1, 0, 1, 0, 0, 0, 0, 0]",
          "[2, 1, 0, 1, 0, 0, 1, 0, 0, 0, 0]",
          "[2, 1, 0, 1, 0, 0, 0, 1, 0, 1, 0]",
          "[2, 1, 0, 0, 0, 1, 0, 1, 0, 0, 0]",
          "[2, 1, 0, 0, 0, 1, 0, 0, 0, 1, 1]",
          "[2, 1, 0, 0, 0, 1, 0, 0, 0, 0, 1]",
          "[2, 0, 2, 1, 1, 0, 0, 0, 0, 0, 0]",
          "[2, 0, 2, 0, 1, 0, 0, 0, 0, 0, 0]",
          "[2, 0, 2, 0, 0, 1, 0, 0, 1, 0, 0]",
          "[2, 0, 2, 0, 0, 1, 0, 0, 0, 0, 1]",
          "[2, 0, 2, 0, 0, 1, 0, 0, 0, 0, 0]",
          "[2, 0, 2, 0, 0, 0, 1, 0, 1, 0, 0]",
          "[2, 0, 2, 0, 0, 0, 1, 0, 0, 0, 0]",
          "[2, 0, 2, 0, 0, 0, 0, 1, 0, 0, 0]",
          "[2, 0, 2, 0, 0, 0, 0, 0, 1, 0, 1]",
          "[2, 0, 2, 0, 0, 0, 0, 0, 0, 1, 0]",
          "[2, 0, 2, 0, 0, 0, 0, 0, 0, 0, 1]",
          "[2, 0, 1, 1, 1, 0, 0, 1, 0, 0, 0]",
          "[2, 0, 1, 1, 0, 1, 0, 1, 0, 0, 0]",
          "[2, 0, 1, 1, 0, 1, 0, 0, 0, 0, 1]",
          "[2, 0, 1, 1, 0, 0, 0, 0, 0, 0, 1]",
          "[2, 0, 1, 0, 1, 1, 0, 0, 1, 0, 0]",
          "[2, 0, 1, 0, 1, 0, 0, 1, 0, 0, 0]",
          "[2, 0, 1, 0, 1, 0, 0, 0, 1, 0, 0]",
          "[2, 0, 1, 0, 1, 0, 0, 0, 0, 0, 1]",
          "[2, 0, 1, 0, 0, 1, 1, 1, 0, 0, 0]",
          "[2, 0, 1, 0, 0, 1, 1, 0, 1, 0, 0]",
          "[2, 0, 1, 0, 0, 1, 1, 0, 0, 1, 0]",
          "[2, 0, 1, 0, 0, 1, 0, 1, 0, 0, 1]",
          "[2, 0, 1, 0, 0, 1, 0, 1, 0, 0, 0]",
          "[2, 0, 1, 0, 0, 1, 0, 0, 1, 1, 0]",
          "[2, 0, 1, 0, 0, 1, 0, 0, 1, 0, 1]",
          "[2, 0, 1, 0, 0, 1, 0, 0, 0, 1, 0]",
          "[2, 0, 1, 0, 0, 1, 0, 0, 0, 0, 2]",
          "[2, 0, 1, 0, 0, 1, 0, 0, 0, 0, 1]",
          "[2, 0, 1, 0, 0, 0, 1, 1, 0, 1, 0]",
          "[2, 0, 1, 0, 0, 0, 1, 0, 1, 1, 0]",
          "[2, 0, 1, 0, 0, 0, 1, 0, 1, 0, 1]",
          "[2, 0, 1, 0, 0, 0, 1, 0, 0, 1, 0]",
          "[2, 0, 1, 0, 0, 0, 0, 1, 1, 1, 0]",
          "[2, 0, 1, 0, 0, 0, 0, 1, 1, 0, 1]",
          "[2, 0, 1, 0, 0, 0, 0, 1, 1, 0, 0]",
          "[2, 0, 1, 0, 0, 0, 0, 1, 0, 1, 1]",
          "[2, 0, 1, 0, 0, 0, 0, 0, 0, 1, 1]",
          "[2, 0, 0, 1, 1, 0, 1, 0, 0, 1, 0]",
          "[2, 0, 0, 1, 1, 0, 1, 0, 0, 0, 0]",
          "[2, 0, 0, 1, 1, 0, 0, 1, 0, 0, 0]",
          "[2, 0, 0, 1, 1, 0, 0, 0, 0, 1, 0]",
          "[2, 0, 0, 1, 0, 0, 1, 1, 0, 0, 1]",
          "[2, 0, 0, 0, 1, 1, 1, 0, 0, 0, 1]",
          "[2, 0, 0, 0, 1, 0, 1, 1, 0, 0, 1]",
          "[2, 0, 0, 0, 1, 0, 0, 0, 0, 1, 1]",
          "[2, 0, 0, 0, 1, 0, 0, 0, 0, 0, 2]",
          "[2, 0, 0, 0, 0, 1, 1, 1, 0, 0, 0]",
          "[2, 0, 0, 0, 0, 1, 1, 0, 1, 0, 1]",
          "[2, 0, 0, 0, 0, 1, 0, 1, 0, 0, 1]",
          "[2, 0, 0, 0, 0, 1, 0, 0, 0, 1, 1]",
          "[2, 0, 0, 0, 0, 0, 1, 0, 1, 1, 1]",
          "[2, 0, 0, 0, 0, 0, 0, 1, 1, 0, 1]",
          "[2, 0, 0, 0, 0, 0, 0, 1, 0, 1, 1]",
          "[2, 0, 0, 0, 0, 0, 0, 0, 1, 1, 1]",
          "[1, 1, 1, 1, 0, 1, 0, 0, 0, 0, 1]",
          "[1, 0, 2, 0, 0, 1, 1, 1, 0, 0, 0]",
          "[1, 0, 2, 0, 0, 1, 0, 1, 1, 0, 0]",
          "[1, 0, 2, 0, 0, 0, 1, 1, 0, 0, 0]",
          "[1, 0, 2, 0, 0, 0, 0, 0, 1, 1, 1]",
          "[1, 0, 1, 1, 0, 0, 0, 0, 0, 1, 1]",
          "[1, 0, 1, 0, 1, 1, 1, 0, 1, 0, 0]",
          "[1, 0, 1, 0, 1, 0, 0, 1, 0, 1, 0]",
          "[1, 0, 1, 0, 0, 1, 1, 0, 1, 1, 0]",
          "[1, 0, 1, 0, 0, 1, 1, 0, 0, 1, 1]",
          "[1, 0, 1, 0, 0, 1, 1, 0, 0, 1, 0]",
          "[1, 0, 1, 0, 0, 1, 0, 1, 0, 1, 0]",
          "[1, 0, 1, 0, 0, 0, 1, 1, 0, 1, 0]",
          "[1, 0, 1, 0, 0, 0, 0, 1, 0, 0, 2]",
          "[1, 0, 0, 0, 0, 1, 1, 0, 0, 0, 2]",
          "[1, 0, 0, 0, 0, 1, 0, 0, 1, 1, 1]",
          "[1, 0, 0, 0, 0, 0, 1, 1, 1, 0, 1]",
          "[0, 1, 1, 0, 0, 1, 1, 1, 0, 0, 1]",
          "[0, 1, 1, 0, 0, 0, 1, 1, 1, 0, 1]",
          "[0, 0, 2, 0, 0, 1, 1, 1, 0, 0, 0]",
          "[0, 0, 2, 0, 0, 1, 1, 0, 0, 0, 1]"
         ],
         "xaxis": "x4",
         "y": [
          4,
          3,
          3,
          3,
          3,
          3,
          2,
          2,
          2,
          1,
          1,
          1,
          1,
          1,
          1,
          1,
          1,
          1,
          1,
          1,
          1,
          1,
          1,
          1,
          1,
          1,
          1,
          1,
          1,
          1,
          1,
          1,
          1,
          1,
          1,
          1,
          1,
          1,
          1,
          1,
          1,
          1,
          1,
          1,
          1,
          1,
          1,
          1,
          1,
          1,
          1,
          1,
          1,
          1,
          1,
          1,
          1,
          1,
          1,
          1,
          1,
          1,
          1,
          1,
          1,
          1,
          1,
          1,
          1,
          1,
          1,
          1,
          1,
          1,
          1,
          1,
          1,
          1,
          1,
          1,
          1,
          1,
          1,
          1,
          1,
          1,
          1,
          1,
          1,
          1,
          1,
          1,
          1,
          1,
          1,
          1
         ],
         "yaxis": "y4"
        },
        {
         "name": "Não frágil",
         "type": "bar",
         "uid": "38533584-d24d-11e8-b3ef-5cc9d3123360",
         "x": [
          "[2, 0, 0, 0, 0, 0, 0, 0, 0, 0, 0]",
          "[0, 0, 0, 0, 0, 0, 0, 0, 0, 0, 0]",
          "[2, 0, 1, 0, 0, 0, 0, 0, 0, 0, 0]",
          "[2, 0, 1, 0, 0, 0, 1, 0, 0, 0, 0]",
          "[2, 0, 1, 0, 0, 0, 0, 0, 0, 0, 1]",
          "[1, 0, 0, 0, 0, 0, 0, 0, 0, 0, 0]",
          "[2, 0, 1, 0, 0, 1, 0, 0, 0, 0, 0]",
          "[2, 0, 1, 0, 0, 0, 0, 0, 1, 0, 0]",
          "[2, 0, 0, 0, 0, 0, 0, 0, 0, 1, 0]",
          "[2, 0, 0, 0, 0, 0, 0, 0, 0, 0, 1]",
          "[2, 0, 0, 0, 0, 0, 1, 0, 0, 0, 0]",
          "[2, 0, 0, 0, 0, 0, 0, 1, 0, 0, 0]",
          "[0, 0, 0, 0, 0, 0, 0, 0, 0, 0, 1]",
          "[2, 0, 1, 0, 0, 0, 0, 0, 0, 1, 0]",
          "[2, 0, 0, 1, 0, 0, 0, 0, 0, 0, 0]",
          "[1, 0, 1, 0, 0, 1, 1, 0, 0, 0, 0]",
          "[1, 0, 1, 0, 0, 0, 0, 0, 0, 0, 0]",
          "[0, 0, 1, 0, 0, 1, 0, 0, 0, 0, 1]",
          "[0, 0, 1, 0, 0, 0, 1, 0, 0, 0, 1]",
          "[2, 1, 0, 0, 0, 0, 1, 0, 0, 0, 0]",
          "[2, 0, 0, 1, 1, 0, 0, 0, 0, 0, 0]",
          "[2, 0, 0, 1, 0, 1, 0, 0, 0, 0, 0]",
          "[2, 0, 0, 0, 1, 1, 0, 0, 0, 0, 0]",
          "[2, 0, 0, 0, 1, 0, 0, 1, 0, 0, 0]",
          "[2, 0, 0, 0, 1, 0, 0, 0, 0, 0, 1]",
          "[2, 0, 0, 0, 1, 0, 0, 0, 0, 0, 0]",
          "[2, 0, 0, 0, 0, 1, 0, 0, 0, 0, 1]",
          "[2, 0, 0, 0, 0, 0, 1, 1, 0, 0, 0]",
          "[2, 0, 0, 0, 0, 0, 1, 0, 1, 0, 0]",
          "[2, 0, 0, 0, 0, 0, 1, 0, 0, 0, 1]",
          "[2, 0, 0, 0, 0, 0, 0, 1, 1, 0, 0]",
          "[2, 0, 0, 0, 0, 0, 0, 0, 1, 0, 0]",
          "[2, 0, 0, 0, 0, 0, 0, 0, 0, 1, 1]",
          "[1, 1, 1, 0, 0, 0, 0, 0, 1, 0, 0]",
          "[1, 1, 0, 0, 0, 1, 0, 0, 0, 0, 1]",
          "[1, 0, 1, 1, 0, 0, 0, 0, 0, 1, 0]",
          "[1, 0, 1, 1, 0, 0, 0, 0, 0, 0, 1]",
          "[1, 0, 1, 1, 0, 0, 0, 0, 0, 0, 0]",
          "[1, 0, 1, 0, 0, 1, 0, 0, 0, 0, 1]",
          "[1, 0, 1, 0, 0, 1, 0, 0, 0, 0, 0]",
          "[1, 0, 1, 0, 0, 0, 1, 1, 0, 0, 0]",
          "[1, 0, 1, 0, 0, 0, 1, 0, 0, 1, 0]",
          "[1, 0, 1, 0, 0, 0, 1, 0, 0, 0, 0]",
          "[1, 0, 1, 0, 0, 0, 0, 0, 0, 0, 1]",
          "[1, 0, 0, 0, 1, 0, 0, 1, 0, 0, 1]",
          "[1, 0, 0, 0, 1, 0, 0, 0, 0, 1, 0]",
          "[1, 0, 0, 0, 0, 1, 0, 0, 0, 0, 1]",
          "[1, 0, 0, 0, 0, 0, 1, 0, 0, 1, 0]",
          "[1, 0, 0, 0, 0, 0, 1, 0, 0, 0, 0]",
          "[1, 0, 0, 0, 0, 0, 0, 1, 0, 0, 0]",
          "[0, 1, 1, 1, 0, 0, 0, 0, 0, 0, 0]",
          "[0, 0, 1, 0, 0, 1, 1, 0, 1, 0, 0]",
          "[0, 0, 1, 0, 0, 1, 1, 0, 0, 0, 1]",
          "[0, 0, 1, 0, 0, 1, 1, 0, 0, 0, 0]",
          "[0, 0, 1, 0, 0, 1, 0, 0, 0, 1, 0]",
          "[0, 0, 1, 0, 0, 0, 1, 0, 1, 0, 0]",
          "[0, 0, 1, 0, 0, 0, 1, 0, 0, 1, 0]",
          "[0, 0, 1, 0, 0, 0, 0, 0, 1, 0, 2]",
          "[0, 0, 1, 0, 0, 0, 0, 0, 0, 1, 0]",
          "[0, 0, 1, 0, 0, 0, 0, 0, 0, 0, 1]",
          "[0, 0, 0, 1, 0, 0, 1, 0, 0, 0, 1]",
          "[0, 0, 0, 0, 0, 1, 1, 1, 1, 0, 0]",
          "[0, 0, 0, 0, 0, 1, 0, 1, 0, 0, 0]",
          "[0, 0, 0, 0, 0, 0, 1, 0, 1, 0, 0]",
          "[0, 0, 0, 0, 0, 0, 0, 1, 0, 1, 1]"
         ],
         "xaxis": "x5",
         "y": [
          15,
          14,
          9,
          6,
          5,
          5,
          4,
          4,
          4,
          4,
          3,
          3,
          3,
          2,
          2,
          2,
          2,
          2,
          2,
          1,
          1,
          1,
          1,
          1,
          1,
          1,
          1,
          1,
          1,
          1,
          1,
          1,
          1,
          1,
          1,
          1,
          1,
          1,
          1,
          1,
          1,
          1,
          1,
          1,
          1,
          1,
          1,
          1,
          1,
          1,
          1,
          1,
          1,
          1,
          1,
          1,
          1,
          1,
          1,
          1,
          1,
          1,
          1,
          1,
          1
         ],
         "yaxis": "y5"
        }
       ],
       "layout": {
        "annotations": [
         {
          "font": {
           "size": 16
          },
          "showarrow": false,
          "text": "Severa",
          "x": 0.5,
          "xanchor": "center",
          "xref": "paper",
          "y": 1,
          "yanchor": "bottom",
          "yref": "paper"
         },
         {
          "font": {
           "size": 16
          },
          "showarrow": false,
          "text": "Moderada",
          "x": 0.5,
          "xanchor": "center",
          "xref": "paper",
          "y": 0.78,
          "yanchor": "bottom",
          "yref": "paper"
         },
         {
          "font": {
           "size": 16
          },
          "showarrow": false,
          "text": "Leve",
          "x": 0.5,
          "xanchor": "center",
          "xref": "paper",
          "y": 0.56,
          "yanchor": "bottom",
          "yref": "paper"
         },
         {
          "font": {
           "size": 16
          },
          "showarrow": false,
          "text": "Vulnerável",
          "x": 0.5,
          "xanchor": "center",
          "xref": "paper",
          "y": 0.33999999999999997,
          "yanchor": "bottom",
          "yref": "paper"
         },
         {
          "font": {
           "size": 16
          },
          "showarrow": false,
          "text": "Não frágil",
          "x": 0.5,
          "xanchor": "center",
          "xref": "paper",
          "y": 0.12,
          "yanchor": "bottom",
          "yref": "paper"
         }
        ],
        "height": 2000,
        "showlegend": false,
        "title": "Quantidade de indivíduos por padrão de pontuação por classe na Edmonton",
        "xaxis": {
         "anchor": "y",
         "domain": [
          0,
          1
         ]
        },
        "xaxis2": {
         "anchor": "y2",
         "domain": [
          0,
          1
         ]
        },
        "xaxis3": {
         "anchor": "y3",
         "domain": [
          0,
          1
         ]
        },
        "xaxis4": {
         "anchor": "y4",
         "domain": [
          0,
          1
         ]
        },
        "xaxis5": {
         "anchor": "y5",
         "domain": [
          0,
          1
         ]
        },
        "yaxis": {
         "anchor": "x",
         "domain": [
          0.88,
          1
         ]
        },
        "yaxis2": {
         "anchor": "x2",
         "domain": [
          0.66,
          0.78
         ]
        },
        "yaxis3": {
         "anchor": "x3",
         "domain": [
          0.44,
          0.56
         ]
        },
        "yaxis4": {
         "anchor": "x4",
         "domain": [
          0.22,
          0.33999999999999997
         ]
        },
        "yaxis5": {
         "anchor": "x5",
         "domain": [
          0,
          0.12
         ]
        }
       }
      },
      "text/html": [
       "<div id=\"26c42445-e5c4-4591-a932-22df0afcbc79\" style=\"height: 2000px; width: 100%;\" class=\"plotly-graph-div\"></div><script type=\"text/javascript\">require([\"plotly\"], function(Plotly) { window.PLOTLYENV=window.PLOTLYENV || {};window.PLOTLYENV.BASE_URL=\"https://plot.ly\";Plotly.newPlot(\"26c42445-e5c4-4591-a932-22df0afcbc79\", [{\"x\": [\"[2, 2, 2, 1, 0, 1, 1, 0, 1, 1, 0]\", \"[2, 2, 2, 0, 1, 1, 1, 0, 0, 1, 2]\", \"[2, 1, 2, 1, 1, 1, 1, 1, 1, 1, 0]\", \"[2, 1, 2, 1, 1, 1, 0, 1, 0, 1, 2]\", \"[2, 1, 2, 1, 1, 1, 0, 0, 1, 1, 2]\", \"[2, 1, 2, 1, 0, 1, 1, 1, 0, 1, 1]\", \"[2, 1, 1, 0, 1, 1, 1, 1, 0, 1, 2]\", \"[2, 0, 1, 1, 1, 0, 1, 1, 1, 1, 2]\"], \"yaxis\": \"y\", \"y\": [1, 1, 1, 1, 1, 1, 1, 1], \"uid\": \"38533580-d24d-11e8-b3ef-5cc9d3123360\", \"xaxis\": \"x\", \"name\": \"Severa\", \"type\": \"bar\"}, {\"x\": [\"[2, 2, 1, 0, 0, 1, 1, 1, 1, 0, 1]\", \"[2, 2, 1, 0, 0, 1, 0, 1, 1, 1, 1]\", \"[2, 1, 2, 1, 1, 1, 0, 0, 1, 1, 0]\", \"[2, 1, 2, 0, 0, 1, 1, 0, 1, 0, 1]\", \"[2, 1, 2, 0, 0, 1, 0, 1, 0, 1, 1]\", \"[2, 1, 1, 1, 1, 1, 1, 0, 0, 1, 0]\", \"[2, 1, 1, 1, 1, 1, 0, 0, 1, 1, 0]\", \"[2, 1, 1, 0, 1, 1, 1, 1, 0, 0, 2]\", \"[2, 1, 1, 0, 1, 0, 0, 1, 0, 1, 2]\", \"[2, 1, 1, 0, 0, 1, 1, 1, 1, 0, 1]\", \"[2, 1, 1, 0, 0, 0, 1, 1, 1, 1, 1]\", \"[2, 1, 0, 1, 1, 0, 1, 1, 0, 1, 2]\", \"[2, 1, 0, 1, 1, 0, 1, 0, 0, 1, 2]\", \"[2, 0, 2, 1, 1, 1, 1, 1, 0, 1, 0]\", \"[2, 0, 2, 1, 1, 1, 0, 0, 1, 1, 1]\", \"[2, 0, 2, 1, 1, 0, 1, 0, 1, 0, 1]\", \"[2, 0, 2, 1, 0, 1, 0, 0, 1, 1, 1]\", \"[2, 0, 2, 0, 1, 1, 1, 1, 1, 0, 0]\", \"[2, 0, 2, 0, 1, 1, 0, 1, 1, 1, 0]\", \"[2, 0, 2, 0, 1, 1, 0, 1, 1, 0, 1]\", \"[2, 0, 2, 0, 1, 0, 1, 1, 1, 0, 1]\", \"[2, 0, 2, 0, 1, 0, 1, 0, 1, 1, 2]\", \"[2, 0, 2, 0, 0, 1, 1, 1, 1, 1, 0]\", \"[2, 0, 2, 0, 0, 1, 0, 0, 1, 1, 2]\", \"[2, 0, 1, 1, 1, 1, 1, 1, 0, 0, 2]\", \"[2, 0, 1, 1, 1, 1, 0, 0, 1, 0, 2]\", \"[2, 0, 1, 1, 1, 1, 0, 0, 0, 1, 2]\", \"[2, 0, 1, 1, 1, 0, 0, 0, 1, 1, 2]\", \"[2, 0, 1, 0, 1, 1, 1, 1, 1, 1, 1]\", \"[2, 0, 1, 0, 1, 1, 1, 1, 1, 0, 1]\", \"[2, 0, 1, 0, 1, 1, 1, 1, 0, 1, 1]\", \"[2, 0, 1, 0, 1, 1, 1, 0, 0, 1, 2]\", \"[2, 0, 1, 0, 1, 1, 0, 1, 0, 1, 2]\", \"[2, 0, 1, 0, 0, 1, 1, 1, 1, 1, 1]\", \"[2, 0, 0, 1, 1, 1, 1, 0, 1, 0, 2]\", \"[1, 1, 2, 1, 1, 1, 1, 0, 0, 1, 1]\", \"[1, 0, 2, 2, 1, 0, 0, 1, 1, 1, 1]\", \"[1, 0, 2, 0, 1, 1, 0, 0, 1, 1, 2]\"], \"yaxis\": \"y2\", \"y\": [1, 1, 1, 1, 1, 1, 1, 1, 1, 1, 1, 1, 1, 1, 1, 1, 1, 1, 1, 1, 1, 1, 1, 1, 1, 1, 1, 1, 1, 1, 1, 1, 1, 1, 1, 1, 1, 1], \"uid\": \"38533581-d24d-11e8-b3ef-5cc9d3123360\", \"xaxis\": \"x2\", \"name\": \"Moderada\", \"type\": \"bar\"}, {\"x\": [\"[2, 0, 1, 0, 0, 1, 1, 1, 0, 0, 1]\", \"[2, 1, 1, 0, 0, 1, 0, 1, 0, 0, 1]\", \"[2, 0, 2, 0, 0, 1, 1, 0, 1, 0, 1]\", \"[2, 0, 2, 0, 0, 1, 0, 0, 0, 1, 1]\", \"[2, 0, 1, 0, 1, 0, 0, 1, 0, 1, 1]\", \"[2, 0, 1, 0, 0, 1, 1, 1, 0, 1, 1]\", \"[2, 0, 1, 0, 0, 1, 0, 0, 1, 1, 1]\", \"[2, 2, 1, 0, 0, 1, 0, 1, 0, 0, 1]\", \"[2, 1, 2, 0, 0, 1, 1, 0, 1, 0, 0]\", \"[2, 1, 2, 0, 0, 0, 0, 0, 0, 1, 1]\", \"[2, 1, 1, 1, 1, 0, 0, 1, 0, 0, 0]\", \"[2, 1, 1, 0, 0, 1, 1, 0, 0, 0, 1]\", \"[2, 1, 1, 0, 0, 0, 1, 0, 0, 1, 1]\", \"[2, 1, 0, 1, 1, 0, 0, 1, 1, 0, 0]\", \"[2, 1, 0, 0, 1, 1, 0, 0, 1, 0, 1]\", \"[2, 0, 2, 1, 1, 1, 0, 0, 0, 1, 0]\", \"[2, 0, 2, 1, 0, 0, 1, 0, 0, 0, 1]\", \"[2, 0, 2, 0, 1, 1, 1, 0, 1, 0, 0]\", \"[2, 0, 2, 0, 1, 0, 1, 0, 1, 1, 0]\", \"[2, 0, 2, 0, 0, 1, 1, 1, 0, 1, 0]\", \"[2, 0, 2, 0, 0, 1, 0, 0, 1, 1, 1]\", \"[2, 0, 2, 0, 0, 1, 0, 0, 1, 0, 2]\", \"[2, 0, 2, 0, 0, 1, 0, 0, 0, 0, 2]\", \"[2, 0, 2, 0, 0, 0, 1, 0, 1, 0, 1]\", \"[2, 0, 2, 0, 0, 0, 0, 0, 1, 1, 1]\", \"[2, 0, 1, 1, 1, 1, 0, 0, 1, 1, 0]\", \"[2, 0, 1, 1, 1, 1, 0, 0, 0, 1, 1]\", \"[2, 0, 1, 1, 1, 0, 0, 1, 0, 1, 0]\", \"[2, 0, 1, 1, 1, 0, 0, 1, 0, 0, 2]\", \"[2, 0, 1, 1, 1, 0, 0, 1, 0, 0, 1]\", \"[2, 0, 1, 1, 1, 0, 0, 0, 1, 0, 2]\", \"[2, 0, 1, 1, 0, 1, 0, 1, 0, 0, 1]\", \"[2, 0, 1, 0, 1, 1, 1, 1, 0, 0, 1]\", \"[2, 0, 1, 0, 1, 1, 1, 0, 0, 1, 1]\", \"[2, 0, 1, 0, 1, 0, 1, 0, 1, 1, 1]\", \"[2, 0, 1, 0, 0, 1, 1, 1, 0, 1, 0]\", \"[2, 0, 1, 0, 0, 1, 1, 0, 1, 1, 0]\", \"[2, 0, 1, 0, 0, 1, 1, 0, 1, 0, 1]\", \"[2, 0, 1, 0, 0, 1, 0, 1, 1, 0, 1]\", \"[2, 0, 1, 0, 0, 1, 0, 1, 0, 1, 1]\", \"[2, 0, 1, 0, 0, 0, 1, 1, 1, 1, 1]\", \"[2, 0, 0, 1, 1, 0, 1, 0, 1, 0, 1]\", \"[2, 0, 0, 1, 1, 0, 1, 0, 0, 1, 2]\", \"[2, 0, 0, 1, 1, 0, 0, 0, 1, 1, 2]\", \"[2, 0, 0, 1, 0, 1, 0, 0, 0, 1, 2]\", \"[2, 0, 0, 0, 1, 1, 0, 0, 1, 1, 2]\", \"[2, 0, 0, 0, 1, 1, 0, 0, 1, 1, 1]\", \"[2, 0, 0, 0, 1, 0, 1, 0, 0, 1, 2]\", \"[2, 0, 0, 0, 0, 1, 1, 1, 0, 1, 2]\", \"[2, 0, 0, 0, 0, 1, 1, 1, 0, 1, 1]\", \"[1, 1, 2, 0, 0, 1, 0, 0, 1, 0, 2]\", \"[1, 0, 2, 0, 0, 0, 1, 1, 1, 1, 1]\", \"[1, 0, 1, 1, 0, 1, 1, 0, 1, 1, 0]\", \"[1, 0, 1, 0, 0, 1, 0, 1, 1, 1, 1]\", \"[0, 1, 1, 0, 1, 1, 0, 0, 1, 1, 1]\"], \"yaxis\": \"y3\", \"y\": [5, 3, 2, 2, 2, 2, 2, 1, 1, 1, 1, 1, 1, 1, 1, 1, 1, 1, 1, 1, 1, 1, 1, 1, 1, 1, 1, 1, 1, 1, 1, 1, 1, 1, 1, 1, 1, 1, 1, 1, 1, 1, 1, 1, 1, 1, 1, 1, 1, 1, 1, 1, 1, 1, 1], \"uid\": \"38533582-d24d-11e8-b3ef-5cc9d3123360\", \"xaxis\": \"x3\", \"name\": \"Leve\", \"type\": \"bar\"}, {\"x\": [\"[2, 0, 1, 0, 0, 1, 1, 0, 0, 0, 0]\", \"[2, 0, 1, 0, 1, 0, 0, 0, 0, 1, 1]\", \"[2, 0, 1, 0, 0, 1, 1, 0, 0, 0, 1]\", \"[2, 0, 1, 0, 0, 0, 1, 0, 0, 0, 1]\", \"[2, 0, 1, 0, 0, 0, 0, 0, 1, 1, 0]\", \"[2, 0, 1, 0, 0, 0, 0, 0, 1, 0, 1]\", \"[2, 1, 1, 0, 0, 0, 0, 1, 0, 0, 0]\", \"[2, 0, 1, 0, 0, 0, 1, 1, 0, 0, 1]\", \"[2, 0, 1, 0, 0, 0, 1, 0, 0, 1, 1]\", \"[2, 1, 1, 0, 0, 1, 0, 0, 1, 0, 0]\", \"[2, 1, 1, 0, 0, 1, 0, 0, 0, 0, 1]\", \"[2, 1, 1, 0, 0, 0, 1, 0, 0, 0, 1]\", \"[2, 1, 1, 0, 0, 0, 0, 1, 0, 0, 1]\", \"[2, 1, 1, 0, 0, 0, 0, 0, 0, 1, 1]\", \"[2, 1, 0, 1, 0, 1, 0, 0, 0, 0, 0]\", \"[2, 1, 0, 1, 0, 0, 1, 0, 0, 0, 0]\", \"[2, 1, 0, 1, 0, 0, 0, 1, 0, 1, 0]\", \"[2, 1, 0, 0, 0, 1, 0, 1, 0, 0, 0]\", \"[2, 1, 0, 0, 0, 1, 0, 0, 0, 1, 1]\", \"[2, 1, 0, 0, 0, 1, 0, 0, 0, 0, 1]\", \"[2, 0, 2, 1, 1, 0, 0, 0, 0, 0, 0]\", \"[2, 0, 2, 0, 1, 0, 0, 0, 0, 0, 0]\", \"[2, 0, 2, 0, 0, 1, 0, 0, 1, 0, 0]\", \"[2, 0, 2, 0, 0, 1, 0, 0, 0, 0, 1]\", \"[2, 0, 2, 0, 0, 1, 0, 0, 0, 0, 0]\", \"[2, 0, 2, 0, 0, 0, 1, 0, 1, 0, 0]\", \"[2, 0, 2, 0, 0, 0, 1, 0, 0, 0, 0]\", \"[2, 0, 2, 0, 0, 0, 0, 1, 0, 0, 0]\", \"[2, 0, 2, 0, 0, 0, 0, 0, 1, 0, 1]\", \"[2, 0, 2, 0, 0, 0, 0, 0, 0, 1, 0]\", \"[2, 0, 2, 0, 0, 0, 0, 0, 0, 0, 1]\", \"[2, 0, 1, 1, 1, 0, 0, 1, 0, 0, 0]\", \"[2, 0, 1, 1, 0, 1, 0, 1, 0, 0, 0]\", \"[2, 0, 1, 1, 0, 1, 0, 0, 0, 0, 1]\", \"[2, 0, 1, 1, 0, 0, 0, 0, 0, 0, 1]\", \"[2, 0, 1, 0, 1, 1, 0, 0, 1, 0, 0]\", \"[2, 0, 1, 0, 1, 0, 0, 1, 0, 0, 0]\", \"[2, 0, 1, 0, 1, 0, 0, 0, 1, 0, 0]\", \"[2, 0, 1, 0, 1, 0, 0, 0, 0, 0, 1]\", \"[2, 0, 1, 0, 0, 1, 1, 1, 0, 0, 0]\", \"[2, 0, 1, 0, 0, 1, 1, 0, 1, 0, 0]\", \"[2, 0, 1, 0, 0, 1, 1, 0, 0, 1, 0]\", \"[2, 0, 1, 0, 0, 1, 0, 1, 0, 0, 1]\", \"[2, 0, 1, 0, 0, 1, 0, 1, 0, 0, 0]\", \"[2, 0, 1, 0, 0, 1, 0, 0, 1, 1, 0]\", \"[2, 0, 1, 0, 0, 1, 0, 0, 1, 0, 1]\", \"[2, 0, 1, 0, 0, 1, 0, 0, 0, 1, 0]\", \"[2, 0, 1, 0, 0, 1, 0, 0, 0, 0, 2]\", \"[2, 0, 1, 0, 0, 1, 0, 0, 0, 0, 1]\", \"[2, 0, 1, 0, 0, 0, 1, 1, 0, 1, 0]\", \"[2, 0, 1, 0, 0, 0, 1, 0, 1, 1, 0]\", \"[2, 0, 1, 0, 0, 0, 1, 0, 1, 0, 1]\", \"[2, 0, 1, 0, 0, 0, 1, 0, 0, 1, 0]\", \"[2, 0, 1, 0, 0, 0, 0, 1, 1, 1, 0]\", \"[2, 0, 1, 0, 0, 0, 0, 1, 1, 0, 1]\", \"[2, 0, 1, 0, 0, 0, 0, 1, 1, 0, 0]\", \"[2, 0, 1, 0, 0, 0, 0, 1, 0, 1, 1]\", \"[2, 0, 1, 0, 0, 0, 0, 0, 0, 1, 1]\", \"[2, 0, 0, 1, 1, 0, 1, 0, 0, 1, 0]\", \"[2, 0, 0, 1, 1, 0, 1, 0, 0, 0, 0]\", \"[2, 0, 0, 1, 1, 0, 0, 1, 0, 0, 0]\", \"[2, 0, 0, 1, 1, 0, 0, 0, 0, 1, 0]\", \"[2, 0, 0, 1, 0, 0, 1, 1, 0, 0, 1]\", \"[2, 0, 0, 0, 1, 1, 1, 0, 0, 0, 1]\", \"[2, 0, 0, 0, 1, 0, 1, 1, 0, 0, 1]\", \"[2, 0, 0, 0, 1, 0, 0, 0, 0, 1, 1]\", \"[2, 0, 0, 0, 1, 0, 0, 0, 0, 0, 2]\", \"[2, 0, 0, 0, 0, 1, 1, 1, 0, 0, 0]\", \"[2, 0, 0, 0, 0, 1, 1, 0, 1, 0, 1]\", \"[2, 0, 0, 0, 0, 1, 0, 1, 0, 0, 1]\", \"[2, 0, 0, 0, 0, 1, 0, 0, 0, 1, 1]\", \"[2, 0, 0, 0, 0, 0, 1, 0, 1, 1, 1]\", \"[2, 0, 0, 0, 0, 0, 0, 1, 1, 0, 1]\", \"[2, 0, 0, 0, 0, 0, 0, 1, 0, 1, 1]\", \"[2, 0, 0, 0, 0, 0, 0, 0, 1, 1, 1]\", \"[1, 1, 1, 1, 0, 1, 0, 0, 0, 0, 1]\", \"[1, 0, 2, 0, 0, 1, 1, 1, 0, 0, 0]\", \"[1, 0, 2, 0, 0, 1, 0, 1, 1, 0, 0]\", \"[1, 0, 2, 0, 0, 0, 1, 1, 0, 0, 0]\", \"[1, 0, 2, 0, 0, 0, 0, 0, 1, 1, 1]\", \"[1, 0, 1, 1, 0, 0, 0, 0, 0, 1, 1]\", \"[1, 0, 1, 0, 1, 1, 1, 0, 1, 0, 0]\", \"[1, 0, 1, 0, 1, 0, 0, 1, 0, 1, 0]\", \"[1, 0, 1, 0, 0, 1, 1, 0, 1, 1, 0]\", \"[1, 0, 1, 0, 0, 1, 1, 0, 0, 1, 1]\", \"[1, 0, 1, 0, 0, 1, 1, 0, 0, 1, 0]\", \"[1, 0, 1, 0, 0, 1, 0, 1, 0, 1, 0]\", \"[1, 0, 1, 0, 0, 0, 1, 1, 0, 1, 0]\", \"[1, 0, 1, 0, 0, 0, 0, 1, 0, 0, 2]\", \"[1, 0, 0, 0, 0, 1, 1, 0, 0, 0, 2]\", \"[1, 0, 0, 0, 0, 1, 0, 0, 1, 1, 1]\", \"[1, 0, 0, 0, 0, 0, 1, 1, 1, 0, 1]\", \"[0, 1, 1, 0, 0, 1, 1, 1, 0, 0, 1]\", \"[0, 1, 1, 0, 0, 0, 1, 1, 1, 0, 1]\", \"[0, 0, 2, 0, 0, 1, 1, 1, 0, 0, 0]\", \"[0, 0, 2, 0, 0, 1, 1, 0, 0, 0, 1]\"], \"yaxis\": \"y4\", \"y\": [4, 3, 3, 3, 3, 3, 2, 2, 2, 1, 1, 1, 1, 1, 1, 1, 1, 1, 1, 1, 1, 1, 1, 1, 1, 1, 1, 1, 1, 1, 1, 1, 1, 1, 1, 1, 1, 1, 1, 1, 1, 1, 1, 1, 1, 1, 1, 1, 1, 1, 1, 1, 1, 1, 1, 1, 1, 1, 1, 1, 1, 1, 1, 1, 1, 1, 1, 1, 1, 1, 1, 1, 1, 1, 1, 1, 1, 1, 1, 1, 1, 1, 1, 1, 1, 1, 1, 1, 1, 1, 1, 1, 1, 1, 1, 1], \"uid\": \"38533583-d24d-11e8-b3ef-5cc9d3123360\", \"xaxis\": \"x4\", \"name\": \"Vulner\\u00e1vel\", \"type\": \"bar\"}, {\"x\": [\"[2, 0, 0, 0, 0, 0, 0, 0, 0, 0, 0]\", \"[0, 0, 0, 0, 0, 0, 0, 0, 0, 0, 0]\", \"[2, 0, 1, 0, 0, 0, 0, 0, 0, 0, 0]\", \"[2, 0, 1, 0, 0, 0, 1, 0, 0, 0, 0]\", \"[2, 0, 1, 0, 0, 0, 0, 0, 0, 0, 1]\", \"[1, 0, 0, 0, 0, 0, 0, 0, 0, 0, 0]\", \"[2, 0, 1, 0, 0, 1, 0, 0, 0, 0, 0]\", \"[2, 0, 1, 0, 0, 0, 0, 0, 1, 0, 0]\", \"[2, 0, 0, 0, 0, 0, 0, 0, 0, 1, 0]\", \"[2, 0, 0, 0, 0, 0, 0, 0, 0, 0, 1]\", \"[2, 0, 0, 0, 0, 0, 1, 0, 0, 0, 0]\", \"[2, 0, 0, 0, 0, 0, 0, 1, 0, 0, 0]\", \"[0, 0, 0, 0, 0, 0, 0, 0, 0, 0, 1]\", \"[2, 0, 1, 0, 0, 0, 0, 0, 0, 1, 0]\", \"[2, 0, 0, 1, 0, 0, 0, 0, 0, 0, 0]\", \"[1, 0, 1, 0, 0, 1, 1, 0, 0, 0, 0]\", \"[1, 0, 1, 0, 0, 0, 0, 0, 0, 0, 0]\", \"[0, 0, 1, 0, 0, 1, 0, 0, 0, 0, 1]\", \"[0, 0, 1, 0, 0, 0, 1, 0, 0, 0, 1]\", \"[2, 1, 0, 0, 0, 0, 1, 0, 0, 0, 0]\", \"[2, 0, 0, 1, 1, 0, 0, 0, 0, 0, 0]\", \"[2, 0, 0, 1, 0, 1, 0, 0, 0, 0, 0]\", \"[2, 0, 0, 0, 1, 1, 0, 0, 0, 0, 0]\", \"[2, 0, 0, 0, 1, 0, 0, 1, 0, 0, 0]\", \"[2, 0, 0, 0, 1, 0, 0, 0, 0, 0, 1]\", \"[2, 0, 0, 0, 1, 0, 0, 0, 0, 0, 0]\", \"[2, 0, 0, 0, 0, 1, 0, 0, 0, 0, 1]\", \"[2, 0, 0, 0, 0, 0, 1, 1, 0, 0, 0]\", \"[2, 0, 0, 0, 0, 0, 1, 0, 1, 0, 0]\", \"[2, 0, 0, 0, 0, 0, 1, 0, 0, 0, 1]\", \"[2, 0, 0, 0, 0, 0, 0, 1, 1, 0, 0]\", \"[2, 0, 0, 0, 0, 0, 0, 0, 1, 0, 0]\", \"[2, 0, 0, 0, 0, 0, 0, 0, 0, 1, 1]\", \"[1, 1, 1, 0, 0, 0, 0, 0, 1, 0, 0]\", \"[1, 1, 0, 0, 0, 1, 0, 0, 0, 0, 1]\", \"[1, 0, 1, 1, 0, 0, 0, 0, 0, 1, 0]\", \"[1, 0, 1, 1, 0, 0, 0, 0, 0, 0, 1]\", \"[1, 0, 1, 1, 0, 0, 0, 0, 0, 0, 0]\", \"[1, 0, 1, 0, 0, 1, 0, 0, 0, 0, 1]\", \"[1, 0, 1, 0, 0, 1, 0, 0, 0, 0, 0]\", \"[1, 0, 1, 0, 0, 0, 1, 1, 0, 0, 0]\", \"[1, 0, 1, 0, 0, 0, 1, 0, 0, 1, 0]\", \"[1, 0, 1, 0, 0, 0, 1, 0, 0, 0, 0]\", \"[1, 0, 1, 0, 0, 0, 0, 0, 0, 0, 1]\", \"[1, 0, 0, 0, 1, 0, 0, 1, 0, 0, 1]\", \"[1, 0, 0, 0, 1, 0, 0, 0, 0, 1, 0]\", \"[1, 0, 0, 0, 0, 1, 0, 0, 0, 0, 1]\", \"[1, 0, 0, 0, 0, 0, 1, 0, 0, 1, 0]\", \"[1, 0, 0, 0, 0, 0, 1, 0, 0, 0, 0]\", \"[1, 0, 0, 0, 0, 0, 0, 1, 0, 0, 0]\", \"[0, 1, 1, 1, 0, 0, 0, 0, 0, 0, 0]\", \"[0, 0, 1, 0, 0, 1, 1, 0, 1, 0, 0]\", \"[0, 0, 1, 0, 0, 1, 1, 0, 0, 0, 1]\", \"[0, 0, 1, 0, 0, 1, 1, 0, 0, 0, 0]\", \"[0, 0, 1, 0, 0, 1, 0, 0, 0, 1, 0]\", \"[0, 0, 1, 0, 0, 0, 1, 0, 1, 0, 0]\", \"[0, 0, 1, 0, 0, 0, 1, 0, 0, 1, 0]\", \"[0, 0, 1, 0, 0, 0, 0, 0, 1, 0, 2]\", \"[0, 0, 1, 0, 0, 0, 0, 0, 0, 1, 0]\", \"[0, 0, 1, 0, 0, 0, 0, 0, 0, 0, 1]\", \"[0, 0, 0, 1, 0, 0, 1, 0, 0, 0, 1]\", \"[0, 0, 0, 0, 0, 1, 1, 1, 1, 0, 0]\", \"[0, 0, 0, 0, 0, 1, 0, 1, 0, 0, 0]\", \"[0, 0, 0, 0, 0, 0, 1, 0, 1, 0, 0]\", \"[0, 0, 0, 0, 0, 0, 0, 1, 0, 1, 1]\"], \"yaxis\": \"y5\", \"y\": [15, 14, 9, 6, 5, 5, 4, 4, 4, 4, 3, 3, 3, 2, 2, 2, 2, 2, 2, 1, 1, 1, 1, 1, 1, 1, 1, 1, 1, 1, 1, 1, 1, 1, 1, 1, 1, 1, 1, 1, 1, 1, 1, 1, 1, 1, 1, 1, 1, 1, 1, 1, 1, 1, 1, 1, 1, 1, 1, 1, 1, 1, 1, 1, 1], \"uid\": \"38533584-d24d-11e8-b3ef-5cc9d3123360\", \"xaxis\": \"x5\", \"name\": \"N\\u00e3o fr\\u00e1gil\", \"type\": \"bar\"}], {\"xaxis5\": {\"anchor\": \"y5\", \"domain\": [0.0, 1.0]}, \"yaxis5\": {\"anchor\": \"x5\", \"domain\": [0.0, 0.12]}, \"yaxis2\": {\"anchor\": \"x2\", \"domain\": [0.66, 0.78]}, \"yaxis3\": {\"anchor\": \"x3\", \"domain\": [0.44, 0.56]}, \"showlegend\": false, \"height\": 2000, \"title\": \"Quantidade de indiv\\u00edduos por padr\\u00e3o de pontua\\u00e7\\u00e3o por classe na Edmonton\", \"annotations\": [{\"showarrow\": false, \"xanchor\": \"center\", \"x\": 0.5, \"yref\": \"paper\", \"font\": {\"size\": 16}, \"text\": \"Severa\", \"xref\": \"paper\", \"y\": 1.0, \"yanchor\": \"bottom\"}, {\"showarrow\": false, \"xanchor\": \"center\", \"x\": 0.5, \"yref\": \"paper\", \"font\": {\"size\": 16}, \"text\": \"Moderada\", \"xref\": \"paper\", \"y\": 0.78, \"yanchor\": \"bottom\"}, {\"showarrow\": false, \"xanchor\": \"center\", \"x\": 0.5, \"yref\": \"paper\", \"font\": {\"size\": 16}, \"text\": \"Leve\", \"xref\": \"paper\", \"y\": 0.56, \"yanchor\": \"bottom\"}, {\"showarrow\": false, \"xanchor\": \"center\", \"x\": 0.5, \"yref\": \"paper\", \"font\": {\"size\": 16}, \"text\": \"Vulner\\u00e1vel\", \"xref\": \"paper\", \"y\": 0.33999999999999997, \"yanchor\": \"bottom\"}, {\"showarrow\": false, \"xanchor\": \"center\", \"x\": 0.5, \"yref\": \"paper\", \"font\": {\"size\": 16}, \"text\": \"N\\u00e3o fr\\u00e1gil\", \"xref\": \"paper\", \"y\": 0.12, \"yanchor\": \"bottom\"}], \"xaxis4\": {\"anchor\": \"y4\", \"domain\": [0.0, 1.0]}, \"yaxis\": {\"anchor\": \"x\", \"domain\": [0.88, 1.0]}, \"yaxis4\": {\"anchor\": \"x4\", \"domain\": [0.22, 0.33999999999999997]}, \"xaxis2\": {\"anchor\": \"y2\", \"domain\": [0.0, 1.0]}, \"xaxis\": {\"anchor\": \"y\", \"domain\": [0.0, 1.0]}, \"xaxis3\": {\"anchor\": \"y3\", \"domain\": [0.0, 1.0]}}, {\"showLink\": true, \"linkText\": \"Export to plot.ly\"})});</script>"
      ],
      "text/vnd.plotly.v1+html": [
       "<div id=\"26c42445-e5c4-4591-a932-22df0afcbc79\" style=\"height: 2000px; width: 100%;\" class=\"plotly-graph-div\"></div><script type=\"text/javascript\">require([\"plotly\"], function(Plotly) { window.PLOTLYENV=window.PLOTLYENV || {};window.PLOTLYENV.BASE_URL=\"https://plot.ly\";Plotly.newPlot(\"26c42445-e5c4-4591-a932-22df0afcbc79\", [{\"x\": [\"[2, 2, 2, 1, 0, 1, 1, 0, 1, 1, 0]\", \"[2, 2, 2, 0, 1, 1, 1, 0, 0, 1, 2]\", \"[2, 1, 2, 1, 1, 1, 1, 1, 1, 1, 0]\", \"[2, 1, 2, 1, 1, 1, 0, 1, 0, 1, 2]\", \"[2, 1, 2, 1, 1, 1, 0, 0, 1, 1, 2]\", \"[2, 1, 2, 1, 0, 1, 1, 1, 0, 1, 1]\", \"[2, 1, 1, 0, 1, 1, 1, 1, 0, 1, 2]\", \"[2, 0, 1, 1, 1, 0, 1, 1, 1, 1, 2]\"], \"yaxis\": \"y\", \"y\": [1, 1, 1, 1, 1, 1, 1, 1], \"uid\": \"38533580-d24d-11e8-b3ef-5cc9d3123360\", \"xaxis\": \"x\", \"name\": \"Severa\", \"type\": \"bar\"}, {\"x\": [\"[2, 2, 1, 0, 0, 1, 1, 1, 1, 0, 1]\", \"[2, 2, 1, 0, 0, 1, 0, 1, 1, 1, 1]\", \"[2, 1, 2, 1, 1, 1, 0, 0, 1, 1, 0]\", \"[2, 1, 2, 0, 0, 1, 1, 0, 1, 0, 1]\", \"[2, 1, 2, 0, 0, 1, 0, 1, 0, 1, 1]\", \"[2, 1, 1, 1, 1, 1, 1, 0, 0, 1, 0]\", \"[2, 1, 1, 1, 1, 1, 0, 0, 1, 1, 0]\", \"[2, 1, 1, 0, 1, 1, 1, 1, 0, 0, 2]\", \"[2, 1, 1, 0, 1, 0, 0, 1, 0, 1, 2]\", \"[2, 1, 1, 0, 0, 1, 1, 1, 1, 0, 1]\", \"[2, 1, 1, 0, 0, 0, 1, 1, 1, 1, 1]\", \"[2, 1, 0, 1, 1, 0, 1, 1, 0, 1, 2]\", \"[2, 1, 0, 1, 1, 0, 1, 0, 0, 1, 2]\", \"[2, 0, 2, 1, 1, 1, 1, 1, 0, 1, 0]\", \"[2, 0, 2, 1, 1, 1, 0, 0, 1, 1, 1]\", \"[2, 0, 2, 1, 1, 0, 1, 0, 1, 0, 1]\", \"[2, 0, 2, 1, 0, 1, 0, 0, 1, 1, 1]\", \"[2, 0, 2, 0, 1, 1, 1, 1, 1, 0, 0]\", \"[2, 0, 2, 0, 1, 1, 0, 1, 1, 1, 0]\", \"[2, 0, 2, 0, 1, 1, 0, 1, 1, 0, 1]\", \"[2, 0, 2, 0, 1, 0, 1, 1, 1, 0, 1]\", \"[2, 0, 2, 0, 1, 0, 1, 0, 1, 1, 2]\", \"[2, 0, 2, 0, 0, 1, 1, 1, 1, 1, 0]\", \"[2, 0, 2, 0, 0, 1, 0, 0, 1, 1, 2]\", \"[2, 0, 1, 1, 1, 1, 1, 1, 0, 0, 2]\", \"[2, 0, 1, 1, 1, 1, 0, 0, 1, 0, 2]\", \"[2, 0, 1, 1, 1, 1, 0, 0, 0, 1, 2]\", \"[2, 0, 1, 1, 1, 0, 0, 0, 1, 1, 2]\", \"[2, 0, 1, 0, 1, 1, 1, 1, 1, 1, 1]\", \"[2, 0, 1, 0, 1, 1, 1, 1, 1, 0, 1]\", \"[2, 0, 1, 0, 1, 1, 1, 1, 0, 1, 1]\", \"[2, 0, 1, 0, 1, 1, 1, 0, 0, 1, 2]\", \"[2, 0, 1, 0, 1, 1, 0, 1, 0, 1, 2]\", \"[2, 0, 1, 0, 0, 1, 1, 1, 1, 1, 1]\", \"[2, 0, 0, 1, 1, 1, 1, 0, 1, 0, 2]\", \"[1, 1, 2, 1, 1, 1, 1, 0, 0, 1, 1]\", \"[1, 0, 2, 2, 1, 0, 0, 1, 1, 1, 1]\", \"[1, 0, 2, 0, 1, 1, 0, 0, 1, 1, 2]\"], \"yaxis\": \"y2\", \"y\": [1, 1, 1, 1, 1, 1, 1, 1, 1, 1, 1, 1, 1, 1, 1, 1, 1, 1, 1, 1, 1, 1, 1, 1, 1, 1, 1, 1, 1, 1, 1, 1, 1, 1, 1, 1, 1, 1], \"uid\": \"38533581-d24d-11e8-b3ef-5cc9d3123360\", \"xaxis\": \"x2\", \"name\": \"Moderada\", \"type\": \"bar\"}, {\"x\": [\"[2, 0, 1, 0, 0, 1, 1, 1, 0, 0, 1]\", \"[2, 1, 1, 0, 0, 1, 0, 1, 0, 0, 1]\", \"[2, 0, 2, 0, 0, 1, 1, 0, 1, 0, 1]\", \"[2, 0, 2, 0, 0, 1, 0, 0, 0, 1, 1]\", \"[2, 0, 1, 0, 1, 0, 0, 1, 0, 1, 1]\", \"[2, 0, 1, 0, 0, 1, 1, 1, 0, 1, 1]\", \"[2, 0, 1, 0, 0, 1, 0, 0, 1, 1, 1]\", \"[2, 2, 1, 0, 0, 1, 0, 1, 0, 0, 1]\", \"[2, 1, 2, 0, 0, 1, 1, 0, 1, 0, 0]\", \"[2, 1, 2, 0, 0, 0, 0, 0, 0, 1, 1]\", \"[2, 1, 1, 1, 1, 0, 0, 1, 0, 0, 0]\", \"[2, 1, 1, 0, 0, 1, 1, 0, 0, 0, 1]\", \"[2, 1, 1, 0, 0, 0, 1, 0, 0, 1, 1]\", \"[2, 1, 0, 1, 1, 0, 0, 1, 1, 0, 0]\", \"[2, 1, 0, 0, 1, 1, 0, 0, 1, 0, 1]\", \"[2, 0, 2, 1, 1, 1, 0, 0, 0, 1, 0]\", \"[2, 0, 2, 1, 0, 0, 1, 0, 0, 0, 1]\", \"[2, 0, 2, 0, 1, 1, 1, 0, 1, 0, 0]\", \"[2, 0, 2, 0, 1, 0, 1, 0, 1, 1, 0]\", \"[2, 0, 2, 0, 0, 1, 1, 1, 0, 1, 0]\", \"[2, 0, 2, 0, 0, 1, 0, 0, 1, 1, 1]\", \"[2, 0, 2, 0, 0, 1, 0, 0, 1, 0, 2]\", \"[2, 0, 2, 0, 0, 1, 0, 0, 0, 0, 2]\", \"[2, 0, 2, 0, 0, 0, 1, 0, 1, 0, 1]\", \"[2, 0, 2, 0, 0, 0, 0, 0, 1, 1, 1]\", \"[2, 0, 1, 1, 1, 1, 0, 0, 1, 1, 0]\", \"[2, 0, 1, 1, 1, 1, 0, 0, 0, 1, 1]\", \"[2, 0, 1, 1, 1, 0, 0, 1, 0, 1, 0]\", \"[2, 0, 1, 1, 1, 0, 0, 1, 0, 0, 2]\", \"[2, 0, 1, 1, 1, 0, 0, 1, 0, 0, 1]\", \"[2, 0, 1, 1, 1, 0, 0, 0, 1, 0, 2]\", \"[2, 0, 1, 1, 0, 1, 0, 1, 0, 0, 1]\", \"[2, 0, 1, 0, 1, 1, 1, 1, 0, 0, 1]\", \"[2, 0, 1, 0, 1, 1, 1, 0, 0, 1, 1]\", \"[2, 0, 1, 0, 1, 0, 1, 0, 1, 1, 1]\", \"[2, 0, 1, 0, 0, 1, 1, 1, 0, 1, 0]\", \"[2, 0, 1, 0, 0, 1, 1, 0, 1, 1, 0]\", \"[2, 0, 1, 0, 0, 1, 1, 0, 1, 0, 1]\", \"[2, 0, 1, 0, 0, 1, 0, 1, 1, 0, 1]\", \"[2, 0, 1, 0, 0, 1, 0, 1, 0, 1, 1]\", \"[2, 0, 1, 0, 0, 0, 1, 1, 1, 1, 1]\", \"[2, 0, 0, 1, 1, 0, 1, 0, 1, 0, 1]\", \"[2, 0, 0, 1, 1, 0, 1, 0, 0, 1, 2]\", \"[2, 0, 0, 1, 1, 0, 0, 0, 1, 1, 2]\", \"[2, 0, 0, 1, 0, 1, 0, 0, 0, 1, 2]\", \"[2, 0, 0, 0, 1, 1, 0, 0, 1, 1, 2]\", \"[2, 0, 0, 0, 1, 1, 0, 0, 1, 1, 1]\", \"[2, 0, 0, 0, 1, 0, 1, 0, 0, 1, 2]\", \"[2, 0, 0, 0, 0, 1, 1, 1, 0, 1, 2]\", \"[2, 0, 0, 0, 0, 1, 1, 1, 0, 1, 1]\", \"[1, 1, 2, 0, 0, 1, 0, 0, 1, 0, 2]\", \"[1, 0, 2, 0, 0, 0, 1, 1, 1, 1, 1]\", \"[1, 0, 1, 1, 0, 1, 1, 0, 1, 1, 0]\", \"[1, 0, 1, 0, 0, 1, 0, 1, 1, 1, 1]\", \"[0, 1, 1, 0, 1, 1, 0, 0, 1, 1, 1]\"], \"yaxis\": \"y3\", \"y\": [5, 3, 2, 2, 2, 2, 2, 1, 1, 1, 1, 1, 1, 1, 1, 1, 1, 1, 1, 1, 1, 1, 1, 1, 1, 1, 1, 1, 1, 1, 1, 1, 1, 1, 1, 1, 1, 1, 1, 1, 1, 1, 1, 1, 1, 1, 1, 1, 1, 1, 1, 1, 1, 1, 1], \"uid\": \"38533582-d24d-11e8-b3ef-5cc9d3123360\", \"xaxis\": \"x3\", \"name\": \"Leve\", \"type\": \"bar\"}, {\"x\": [\"[2, 0, 1, 0, 0, 1, 1, 0, 0, 0, 0]\", \"[2, 0, 1, 0, 1, 0, 0, 0, 0, 1, 1]\", \"[2, 0, 1, 0, 0, 1, 1, 0, 0, 0, 1]\", \"[2, 0, 1, 0, 0, 0, 1, 0, 0, 0, 1]\", \"[2, 0, 1, 0, 0, 0, 0, 0, 1, 1, 0]\", \"[2, 0, 1, 0, 0, 0, 0, 0, 1, 0, 1]\", \"[2, 1, 1, 0, 0, 0, 0, 1, 0, 0, 0]\", \"[2, 0, 1, 0, 0, 0, 1, 1, 0, 0, 1]\", \"[2, 0, 1, 0, 0, 0, 1, 0, 0, 1, 1]\", \"[2, 1, 1, 0, 0, 1, 0, 0, 1, 0, 0]\", \"[2, 1, 1, 0, 0, 1, 0, 0, 0, 0, 1]\", \"[2, 1, 1, 0, 0, 0, 1, 0, 0, 0, 1]\", \"[2, 1, 1, 0, 0, 0, 0, 1, 0, 0, 1]\", \"[2, 1, 1, 0, 0, 0, 0, 0, 0, 1, 1]\", \"[2, 1, 0, 1, 0, 1, 0, 0, 0, 0, 0]\", \"[2, 1, 0, 1, 0, 0, 1, 0, 0, 0, 0]\", \"[2, 1, 0, 1, 0, 0, 0, 1, 0, 1, 0]\", \"[2, 1, 0, 0, 0, 1, 0, 1, 0, 0, 0]\", \"[2, 1, 0, 0, 0, 1, 0, 0, 0, 1, 1]\", \"[2, 1, 0, 0, 0, 1, 0, 0, 0, 0, 1]\", \"[2, 0, 2, 1, 1, 0, 0, 0, 0, 0, 0]\", \"[2, 0, 2, 0, 1, 0, 0, 0, 0, 0, 0]\", \"[2, 0, 2, 0, 0, 1, 0, 0, 1, 0, 0]\", \"[2, 0, 2, 0, 0, 1, 0, 0, 0, 0, 1]\", \"[2, 0, 2, 0, 0, 1, 0, 0, 0, 0, 0]\", \"[2, 0, 2, 0, 0, 0, 1, 0, 1, 0, 0]\", \"[2, 0, 2, 0, 0, 0, 1, 0, 0, 0, 0]\", \"[2, 0, 2, 0, 0, 0, 0, 1, 0, 0, 0]\", \"[2, 0, 2, 0, 0, 0, 0, 0, 1, 0, 1]\", \"[2, 0, 2, 0, 0, 0, 0, 0, 0, 1, 0]\", \"[2, 0, 2, 0, 0, 0, 0, 0, 0, 0, 1]\", \"[2, 0, 1, 1, 1, 0, 0, 1, 0, 0, 0]\", \"[2, 0, 1, 1, 0, 1, 0, 1, 0, 0, 0]\", \"[2, 0, 1, 1, 0, 1, 0, 0, 0, 0, 1]\", \"[2, 0, 1, 1, 0, 0, 0, 0, 0, 0, 1]\", \"[2, 0, 1, 0, 1, 1, 0, 0, 1, 0, 0]\", \"[2, 0, 1, 0, 1, 0, 0, 1, 0, 0, 0]\", \"[2, 0, 1, 0, 1, 0, 0, 0, 1, 0, 0]\", \"[2, 0, 1, 0, 1, 0, 0, 0, 0, 0, 1]\", \"[2, 0, 1, 0, 0, 1, 1, 1, 0, 0, 0]\", \"[2, 0, 1, 0, 0, 1, 1, 0, 1, 0, 0]\", \"[2, 0, 1, 0, 0, 1, 1, 0, 0, 1, 0]\", \"[2, 0, 1, 0, 0, 1, 0, 1, 0, 0, 1]\", \"[2, 0, 1, 0, 0, 1, 0, 1, 0, 0, 0]\", \"[2, 0, 1, 0, 0, 1, 0, 0, 1, 1, 0]\", \"[2, 0, 1, 0, 0, 1, 0, 0, 1, 0, 1]\", \"[2, 0, 1, 0, 0, 1, 0, 0, 0, 1, 0]\", \"[2, 0, 1, 0, 0, 1, 0, 0, 0, 0, 2]\", \"[2, 0, 1, 0, 0, 1, 0, 0, 0, 0, 1]\", \"[2, 0, 1, 0, 0, 0, 1, 1, 0, 1, 0]\", \"[2, 0, 1, 0, 0, 0, 1, 0, 1, 1, 0]\", \"[2, 0, 1, 0, 0, 0, 1, 0, 1, 0, 1]\", \"[2, 0, 1, 0, 0, 0, 1, 0, 0, 1, 0]\", \"[2, 0, 1, 0, 0, 0, 0, 1, 1, 1, 0]\", \"[2, 0, 1, 0, 0, 0, 0, 1, 1, 0, 1]\", \"[2, 0, 1, 0, 0, 0, 0, 1, 1, 0, 0]\", \"[2, 0, 1, 0, 0, 0, 0, 1, 0, 1, 1]\", \"[2, 0, 1, 0, 0, 0, 0, 0, 0, 1, 1]\", \"[2, 0, 0, 1, 1, 0, 1, 0, 0, 1, 0]\", \"[2, 0, 0, 1, 1, 0, 1, 0, 0, 0, 0]\", \"[2, 0, 0, 1, 1, 0, 0, 1, 0, 0, 0]\", \"[2, 0, 0, 1, 1, 0, 0, 0, 0, 1, 0]\", \"[2, 0, 0, 1, 0, 0, 1, 1, 0, 0, 1]\", \"[2, 0, 0, 0, 1, 1, 1, 0, 0, 0, 1]\", \"[2, 0, 0, 0, 1, 0, 1, 1, 0, 0, 1]\", \"[2, 0, 0, 0, 1, 0, 0, 0, 0, 1, 1]\", \"[2, 0, 0, 0, 1, 0, 0, 0, 0, 0, 2]\", \"[2, 0, 0, 0, 0, 1, 1, 1, 0, 0, 0]\", \"[2, 0, 0, 0, 0, 1, 1, 0, 1, 0, 1]\", \"[2, 0, 0, 0, 0, 1, 0, 1, 0, 0, 1]\", \"[2, 0, 0, 0, 0, 1, 0, 0, 0, 1, 1]\", \"[2, 0, 0, 0, 0, 0, 1, 0, 1, 1, 1]\", \"[2, 0, 0, 0, 0, 0, 0, 1, 1, 0, 1]\", \"[2, 0, 0, 0, 0, 0, 0, 1, 0, 1, 1]\", \"[2, 0, 0, 0, 0, 0, 0, 0, 1, 1, 1]\", \"[1, 1, 1, 1, 0, 1, 0, 0, 0, 0, 1]\", \"[1, 0, 2, 0, 0, 1, 1, 1, 0, 0, 0]\", \"[1, 0, 2, 0, 0, 1, 0, 1, 1, 0, 0]\", \"[1, 0, 2, 0, 0, 0, 1, 1, 0, 0, 0]\", \"[1, 0, 2, 0, 0, 0, 0, 0, 1, 1, 1]\", \"[1, 0, 1, 1, 0, 0, 0, 0, 0, 1, 1]\", \"[1, 0, 1, 0, 1, 1, 1, 0, 1, 0, 0]\", \"[1, 0, 1, 0, 1, 0, 0, 1, 0, 1, 0]\", \"[1, 0, 1, 0, 0, 1, 1, 0, 1, 1, 0]\", \"[1, 0, 1, 0, 0, 1, 1, 0, 0, 1, 1]\", \"[1, 0, 1, 0, 0, 1, 1, 0, 0, 1, 0]\", \"[1, 0, 1, 0, 0, 1, 0, 1, 0, 1, 0]\", \"[1, 0, 1, 0, 0, 0, 1, 1, 0, 1, 0]\", \"[1, 0, 1, 0, 0, 0, 0, 1, 0, 0, 2]\", \"[1, 0, 0, 0, 0, 1, 1, 0, 0, 0, 2]\", \"[1, 0, 0, 0, 0, 1, 0, 0, 1, 1, 1]\", \"[1, 0, 0, 0, 0, 0, 1, 1, 1, 0, 1]\", \"[0, 1, 1, 0, 0, 1, 1, 1, 0, 0, 1]\", \"[0, 1, 1, 0, 0, 0, 1, 1, 1, 0, 1]\", \"[0, 0, 2, 0, 0, 1, 1, 1, 0, 0, 0]\", \"[0, 0, 2, 0, 0, 1, 1, 0, 0, 0, 1]\"], \"yaxis\": \"y4\", \"y\": [4, 3, 3, 3, 3, 3, 2, 2, 2, 1, 1, 1, 1, 1, 1, 1, 1, 1, 1, 1, 1, 1, 1, 1, 1, 1, 1, 1, 1, 1, 1, 1, 1, 1, 1, 1, 1, 1, 1, 1, 1, 1, 1, 1, 1, 1, 1, 1, 1, 1, 1, 1, 1, 1, 1, 1, 1, 1, 1, 1, 1, 1, 1, 1, 1, 1, 1, 1, 1, 1, 1, 1, 1, 1, 1, 1, 1, 1, 1, 1, 1, 1, 1, 1, 1, 1, 1, 1, 1, 1, 1, 1, 1, 1, 1, 1], \"uid\": \"38533583-d24d-11e8-b3ef-5cc9d3123360\", \"xaxis\": \"x4\", \"name\": \"Vulner\\u00e1vel\", \"type\": \"bar\"}, {\"x\": [\"[2, 0, 0, 0, 0, 0, 0, 0, 0, 0, 0]\", \"[0, 0, 0, 0, 0, 0, 0, 0, 0, 0, 0]\", \"[2, 0, 1, 0, 0, 0, 0, 0, 0, 0, 0]\", \"[2, 0, 1, 0, 0, 0, 1, 0, 0, 0, 0]\", \"[2, 0, 1, 0, 0, 0, 0, 0, 0, 0, 1]\", \"[1, 0, 0, 0, 0, 0, 0, 0, 0, 0, 0]\", \"[2, 0, 1, 0, 0, 1, 0, 0, 0, 0, 0]\", \"[2, 0, 1, 0, 0, 0, 0, 0, 1, 0, 0]\", \"[2, 0, 0, 0, 0, 0, 0, 0, 0, 1, 0]\", \"[2, 0, 0, 0, 0, 0, 0, 0, 0, 0, 1]\", \"[2, 0, 0, 0, 0, 0, 1, 0, 0, 0, 0]\", \"[2, 0, 0, 0, 0, 0, 0, 1, 0, 0, 0]\", \"[0, 0, 0, 0, 0, 0, 0, 0, 0, 0, 1]\", \"[2, 0, 1, 0, 0, 0, 0, 0, 0, 1, 0]\", \"[2, 0, 0, 1, 0, 0, 0, 0, 0, 0, 0]\", \"[1, 0, 1, 0, 0, 1, 1, 0, 0, 0, 0]\", \"[1, 0, 1, 0, 0, 0, 0, 0, 0, 0, 0]\", \"[0, 0, 1, 0, 0, 1, 0, 0, 0, 0, 1]\", \"[0, 0, 1, 0, 0, 0, 1, 0, 0, 0, 1]\", \"[2, 1, 0, 0, 0, 0, 1, 0, 0, 0, 0]\", \"[2, 0, 0, 1, 1, 0, 0, 0, 0, 0, 0]\", \"[2, 0, 0, 1, 0, 1, 0, 0, 0, 0, 0]\", \"[2, 0, 0, 0, 1, 1, 0, 0, 0, 0, 0]\", \"[2, 0, 0, 0, 1, 0, 0, 1, 0, 0, 0]\", \"[2, 0, 0, 0, 1, 0, 0, 0, 0, 0, 1]\", \"[2, 0, 0, 0, 1, 0, 0, 0, 0, 0, 0]\", \"[2, 0, 0, 0, 0, 1, 0, 0, 0, 0, 1]\", \"[2, 0, 0, 0, 0, 0, 1, 1, 0, 0, 0]\", \"[2, 0, 0, 0, 0, 0, 1, 0, 1, 0, 0]\", \"[2, 0, 0, 0, 0, 0, 1, 0, 0, 0, 1]\", \"[2, 0, 0, 0, 0, 0, 0, 1, 1, 0, 0]\", \"[2, 0, 0, 0, 0, 0, 0, 0, 1, 0, 0]\", \"[2, 0, 0, 0, 0, 0, 0, 0, 0, 1, 1]\", \"[1, 1, 1, 0, 0, 0, 0, 0, 1, 0, 0]\", \"[1, 1, 0, 0, 0, 1, 0, 0, 0, 0, 1]\", \"[1, 0, 1, 1, 0, 0, 0, 0, 0, 1, 0]\", \"[1, 0, 1, 1, 0, 0, 0, 0, 0, 0, 1]\", \"[1, 0, 1, 1, 0, 0, 0, 0, 0, 0, 0]\", \"[1, 0, 1, 0, 0, 1, 0, 0, 0, 0, 1]\", \"[1, 0, 1, 0, 0, 1, 0, 0, 0, 0, 0]\", \"[1, 0, 1, 0, 0, 0, 1, 1, 0, 0, 0]\", \"[1, 0, 1, 0, 0, 0, 1, 0, 0, 1, 0]\", \"[1, 0, 1, 0, 0, 0, 1, 0, 0, 0, 0]\", \"[1, 0, 1, 0, 0, 0, 0, 0, 0, 0, 1]\", \"[1, 0, 0, 0, 1, 0, 0, 1, 0, 0, 1]\", \"[1, 0, 0, 0, 1, 0, 0, 0, 0, 1, 0]\", \"[1, 0, 0, 0, 0, 1, 0, 0, 0, 0, 1]\", \"[1, 0, 0, 0, 0, 0, 1, 0, 0, 1, 0]\", \"[1, 0, 0, 0, 0, 0, 1, 0, 0, 0, 0]\", \"[1, 0, 0, 0, 0, 0, 0, 1, 0, 0, 0]\", \"[0, 1, 1, 1, 0, 0, 0, 0, 0, 0, 0]\", \"[0, 0, 1, 0, 0, 1, 1, 0, 1, 0, 0]\", \"[0, 0, 1, 0, 0, 1, 1, 0, 0, 0, 1]\", \"[0, 0, 1, 0, 0, 1, 1, 0, 0, 0, 0]\", \"[0, 0, 1, 0, 0, 1, 0, 0, 0, 1, 0]\", \"[0, 0, 1, 0, 0, 0, 1, 0, 1, 0, 0]\", \"[0, 0, 1, 0, 0, 0, 1, 0, 0, 1, 0]\", \"[0, 0, 1, 0, 0, 0, 0, 0, 1, 0, 2]\", \"[0, 0, 1, 0, 0, 0, 0, 0, 0, 1, 0]\", \"[0, 0, 1, 0, 0, 0, 0, 0, 0, 0, 1]\", \"[0, 0, 0, 1, 0, 0, 1, 0, 0, 0, 1]\", \"[0, 0, 0, 0, 0, 1, 1, 1, 1, 0, 0]\", \"[0, 0, 0, 0, 0, 1, 0, 1, 0, 0, 0]\", \"[0, 0, 0, 0, 0, 0, 1, 0, 1, 0, 0]\", \"[0, 0, 0, 0, 0, 0, 0, 1, 0, 1, 1]\"], \"yaxis\": \"y5\", \"y\": [15, 14, 9, 6, 5, 5, 4, 4, 4, 4, 3, 3, 3, 2, 2, 2, 2, 2, 2, 1, 1, 1, 1, 1, 1, 1, 1, 1, 1, 1, 1, 1, 1, 1, 1, 1, 1, 1, 1, 1, 1, 1, 1, 1, 1, 1, 1, 1, 1, 1, 1, 1, 1, 1, 1, 1, 1, 1, 1, 1, 1, 1, 1, 1, 1], \"uid\": \"38533584-d24d-11e8-b3ef-5cc9d3123360\", \"xaxis\": \"x5\", \"name\": \"N\\u00e3o fr\\u00e1gil\", \"type\": \"bar\"}], {\"xaxis5\": {\"anchor\": \"y5\", \"domain\": [0.0, 1.0]}, \"yaxis5\": {\"anchor\": \"x5\", \"domain\": [0.0, 0.12]}, \"yaxis2\": {\"anchor\": \"x2\", \"domain\": [0.66, 0.78]}, \"yaxis3\": {\"anchor\": \"x3\", \"domain\": [0.44, 0.56]}, \"showlegend\": false, \"height\": 2000, \"title\": \"Quantidade de indiv\\u00edduos por padr\\u00e3o de pontua\\u00e7\\u00e3o por classe na Edmonton\", \"annotations\": [{\"showarrow\": false, \"xanchor\": \"center\", \"x\": 0.5, \"yref\": \"paper\", \"font\": {\"size\": 16}, \"text\": \"Severa\", \"xref\": \"paper\", \"y\": 1.0, \"yanchor\": \"bottom\"}, {\"showarrow\": false, \"xanchor\": \"center\", \"x\": 0.5, \"yref\": \"paper\", \"font\": {\"size\": 16}, \"text\": \"Moderada\", \"xref\": \"paper\", \"y\": 0.78, \"yanchor\": \"bottom\"}, {\"showarrow\": false, \"xanchor\": \"center\", \"x\": 0.5, \"yref\": \"paper\", \"font\": {\"size\": 16}, \"text\": \"Leve\", \"xref\": \"paper\", \"y\": 0.56, \"yanchor\": \"bottom\"}, {\"showarrow\": false, \"xanchor\": \"center\", \"x\": 0.5, \"yref\": \"paper\", \"font\": {\"size\": 16}, \"text\": \"Vulner\\u00e1vel\", \"xref\": \"paper\", \"y\": 0.33999999999999997, \"yanchor\": \"bottom\"}, {\"showarrow\": false, \"xanchor\": \"center\", \"x\": 0.5, \"yref\": \"paper\", \"font\": {\"size\": 16}, \"text\": \"N\\u00e3o fr\\u00e1gil\", \"xref\": \"paper\", \"y\": 0.12, \"yanchor\": \"bottom\"}], \"xaxis4\": {\"anchor\": \"y4\", \"domain\": [0.0, 1.0]}, \"yaxis\": {\"anchor\": \"x\", \"domain\": [0.88, 1.0]}, \"yaxis4\": {\"anchor\": \"x4\", \"domain\": [0.22, 0.33999999999999997]}, \"xaxis2\": {\"anchor\": \"y2\", \"domain\": [0.0, 1.0]}, \"xaxis\": {\"anchor\": \"y\", \"domain\": [0.0, 1.0]}, \"xaxis3\": {\"anchor\": \"y3\", \"domain\": [0.0, 1.0]}}, {\"showLink\": true, \"linkText\": \"Export to plot.ly\"})});</script>"
      ]
     },
     "metadata": {},
     "output_type": "display_data"
    }
   ],
   "source": [
    "traces = []\n",
    "for k in classes:\n",
    "    # se tiver instâncias com a classe k\n",
    "    if len(edm_pad[k][0]):\n",
    "        l1, l2 = zip(*sorted(zip(edm_pad[k][0], map(str, edm_pad[k][1])), reverse=True))\n",
    "\n",
    "        traces.append(go.Bar(\n",
    "            x = l2,\n",
    "            y = [y for y in l1],\n",
    "            name=k\n",
    "        ))\n",
    "    else:\n",
    "        traces.append(go.Bar(\n",
    "            x = [''],\n",
    "            y = [0]\n",
    "        ))\n",
    "\n",
    "fig = tools.make_subplots(rows=5, cols=1, subplot_titles=classes, print_grid=False)\n",
    "\n",
    "for i, t in enumerate(traces):\n",
    "    fig.append_trace(t, i+1, 1)\n",
    "\n",
    "fig['layout'].update(height=2000, \n",
    "                     title='Quantidade de indivíduos por padrão de pontuação por classe na Edmonton', \n",
    "                     showlegend=False)\n",
    "\n",
    "iplot(fig)"
   ]
  },
  {
   "cell_type": "markdown",
   "metadata": {},
   "source": [
    "## I - b) Avaliação do critério de Fisher"
   ]
  },
  {
   "cell_type": "markdown",
   "metadata": {},
   "source": [
    "### Subjetiva"
   ]
  },
  {
   "cell_type": "code",
   "execution_count": 40,
   "metadata": {},
   "outputs": [],
   "source": [
    "def getIdsByMaxDistance(aval, vet_answ, df):\n",
    "    \n",
    "    cols_aval = {'subjetiva' : ['subjetiva_q'+str(i+1) for i in range(6)],\n",
    "                 'edmonton'  : ['edmonton_q'+str(i+1) for i in range(9) if i not in {1, 4}] +\n",
    "                               ['edmonton_q2_a', 'edmonton_q2_b', 'edmonton_q5_a', 'edmonton_q5_b']}\n",
    "    cols = cols_aval[aval]\n",
    "    if aval == 'subjetiva':\n",
    "        dist_max = 2\n",
    "    else:\n",
    "        dist_max = 4\n",
    "    \n",
    "    # trocando nulos por 0\n",
    "    not_nan = df[cols].fillna(0)\n",
    "    \n",
    "    ret = []\n",
    "    for index, row in not_nan.iterrows():        \n",
    "        dist = 0\n",
    "        for a, b in zip(vet_answ, row):\n",
    "            dist += abs(a - b)\n",
    "        if dist <= dist_max:\n",
    "            ret.append(index)\n",
    "    return(ret)"
   ]
  },
  {
   "cell_type": "code",
   "execution_count": 135,
   "metadata": {},
   "outputs": [],
   "source": [
    "# vetor que armazena todas as execuções do score de fisher\n",
    "scores = np.zeros((2**6, len(cols_feat)))\n",
    "i = 0\n",
    "\n",
    "# todas as possíveis combinações de pontuação para a Subjetiva\n",
    "for i0 in range(2):\n",
    "    for i1 in range(2):\n",
    "        for i2 in range(2):\n",
    "            for i3 in range(2):\n",
    "                for i4 in range(2):\n",
    "                    for i5 in range(2):\n",
    "                        array = [i0, i1, i2, i3, i4, i5]\n",
    "                        classe = getClass('subjetiva', array)\n",
    "                        exemplos = getIdsByMaxDistance('subjetiva', array, df_coleta)\n",
    "                        \n",
    "                        # nunca acontece =/\n",
    "                        if len(exemplos) < 0.1*df_coleta.shape[0]:\n",
    "                            exemplos = df_coleta.query('subjetiva == '+classe).index\n",
    "                            \n",
    "                        \n",
    "                        df_prox = df_feat.loc[exemplos]                            \n",
    "                        df_dist = df_feat.loc[ ~df_feat.index.isin(exemplos) ]\n",
    "                        \n",
    "                        scores[i] = (np.mean(df_prox) - np.mean(df_dist)).pow(2) / (np.var(df_prox) + np.var(df_dist))\n",
    "                        i += 1"
   ]
  },
  {
   "cell_type": "code",
   "execution_count": 138,
   "metadata": {},
   "outputs": [
    {
     "data": {
      "application/vnd.plotly.v1+json": {
       "data": [
        {
         "error_y": {
          "array": [
           0.13366774242434903,
           0.11212082227845356,
           0.04738010594037091,
           0.04047077432359989,
           0.035775322552076196,
           0.0330643211805041,
           0.03614720371652119,
           0.02254861505523508,
           0.028917243031941726,
           0.021386555218851026,
           0.020893040060025903,
           0.021174101547081547,
           0.018744136051505548,
           0.025590656499540364,
           0.023151985525648247,
           0.019793914134080152,
           0.013703076343930911,
           0.01259361110224539,
           0.012353873182027752,
           0.014977361235358049,
           0.014010359539358575,
           0.012731925211031546,
           0.015131095012177055,
           0.011318005504831382,
           0.013968627793532301,
           0.012146608321742788,
           0.018535995219117654,
           0.013671649816000345,
           0.013964338568191476,
           0.013010948654891472,
           0.010928021928397157,
           0.007775283707157624,
           0.008724945174228864,
           0.009746987778461853,
           0.010999964759595788,
           0.012836688043905744,
           0.010156425547123713,
           0.0061190015981283374,
           0.008214750856684914,
           0.005634059822067472,
           0.008823154254228697,
           0.009114981260247236,
           0.010552655276422926,
           0.008942395276760063,
           0.007157573256169378,
           0.002620745556249616,
           0.007478720528797,
           0.005984092111753009
          ],
          "type": "data",
          "visible": true
         },
         "type": "bar",
         "uid": "f9a23e34-d3f1-11e8-8093-5cc9d3123360",
         "x": [
          "gds",
          "fes",
          "caminhada",
          "temp_sent",
          "berg",
          "meem",
          "lawton",
          "ativ_fis",
          "aavd",
          "tug",
          "katz",
          "hematocrito",
          "mos",
          "hgh",
          "hidroxivitamina_d",
          "hemoglobina",
          "colesterol_total",
          "il_10",
          "tnf_beta",
          "adam10",
          "fraq_musc_media",
          "albumina",
          "triglicerides",
          "insulina",
          "man",
          "il_6",
          "relogio",
          "il_1alpha",
          "vldl",
          "s_dhea",
          "fraq_musc_max",
          "circ_cint",
          "circ_quad",
          "il_1beta",
          "proteina_total",
          "ureia",
          "glicose",
          "circ_pant",
          "ldl",
          "quedas",
          "tnf_alpha",
          "dhea",
          "hdl",
          "hemoglobina_glicada",
          "idade",
          "creatina",
          "somatomedina_c",
          "globulinas"
         ],
         "y": [
          0.1290909191724319,
          0.1031310489028447,
          0.0464258156066703,
          0.04133612026034069,
          0.037461357287712695,
          0.03551896263453349,
          0.033554661613375315,
          0.025766204956169173,
          0.024571140015355132,
          0.022356046881573763,
          0.01959065142678395,
          0.019187845442921892,
          0.018848395205730773,
          0.018775278757451427,
          0.018300055940855237,
          0.017490272250784172,
          0.014904952504885015,
          0.01444148483593992,
          0.013713379599119377,
          0.012816974049021929,
          0.012658530387796397,
          0.01258379738837405,
          0.012435812568365236,
          0.011579725116632956,
          0.011340876295102397,
          0.011249273315887938,
          0.011166101418819364,
          0.011098374272190894,
          0.010935948149931414,
          0.0106246199676647,
          0.009456712195469496,
          0.009166019691251756,
          0.00868988054932681,
          0.00863672854993883,
          0.008626106542287336,
          0.008536376648244777,
          0.008225472281002746,
          0.008217181434726786,
          0.008121306637713406,
          0.007988052906316809,
          0.007779805363940192,
          0.0077343793612328505,
          0.00721983814540927,
          0.0066596392872745975,
          0.006194973666813535,
          0.00543905879846852,
          0.005100775248534125,
          0.004417232093905867
         ]
        }
       ],
       "layout": {
        "title": "Pontuação das variáveis no Score de Fisher para a avaliação subjetiva"
       }
      },
      "text/html": [
       "<div id=\"5f94f759-7752-4a40-852c-03316f5dbedb\" style=\"height: 525px; width: 100%;\" class=\"plotly-graph-div\"></div><script type=\"text/javascript\">require([\"plotly\"], function(Plotly) { window.PLOTLYENV=window.PLOTLYENV || {};window.PLOTLYENV.BASE_URL=\"https://plot.ly\";Plotly.newPlot(\"5f94f759-7752-4a40-852c-03316f5dbedb\", [{\"y\": [0.1290909191724319, 0.1031310489028447, 0.0464258156066703, 0.04133612026034069, 0.037461357287712695, 0.03551896263453349, 0.033554661613375315, 0.025766204956169173, 0.024571140015355132, 0.022356046881573763, 0.01959065142678395, 0.019187845442921892, 0.018848395205730773, 0.018775278757451427, 0.018300055940855237, 0.017490272250784172, 0.014904952504885015, 0.01444148483593992, 0.013713379599119377, 0.012816974049021929, 0.012658530387796397, 0.01258379738837405, 0.012435812568365236, 0.011579725116632956, 0.011340876295102397, 0.011249273315887938, 0.011166101418819364, 0.011098374272190894, 0.010935948149931414, 0.0106246199676647, 0.009456712195469496, 0.009166019691251756, 0.00868988054932681, 0.00863672854993883, 0.008626106542287336, 0.008536376648244777, 0.008225472281002746, 0.008217181434726786, 0.008121306637713406, 0.007988052906316809, 0.007779805363940192, 0.0077343793612328505, 0.00721983814540927, 0.0066596392872745975, 0.006194973666813535, 0.00543905879846852, 0.005100775248534125, 0.004417232093905867], \"error_y\": {\"visible\": true, \"array\": [0.13366774242434903, 0.11212082227845356, 0.04738010594037091, 0.04047077432359989, 0.035775322552076196, 0.0330643211805041, 0.03614720371652119, 0.02254861505523508, 0.028917243031941726, 0.021386555218851026, 0.020893040060025903, 0.021174101547081547, 0.018744136051505548, 0.025590656499540364, 0.023151985525648247, 0.019793914134080152, 0.013703076343930911, 0.01259361110224539, 0.012353873182027752, 0.014977361235358049, 0.014010359539358575, 0.012731925211031546, 0.015131095012177055, 0.011318005504831382, 0.013968627793532301, 0.012146608321742788, 0.018535995219117654, 0.013671649816000345, 0.013964338568191476, 0.013010948654891472, 0.010928021928397157, 0.007775283707157624, 0.008724945174228864, 0.009746987778461853, 0.010999964759595788, 0.012836688043905744, 0.010156425547123713, 0.0061190015981283374, 0.008214750856684914, 0.005634059822067472, 0.008823154254228697, 0.009114981260247236, 0.010552655276422926, 0.008942395276760063, 0.007157573256169378, 0.002620745556249616, 0.007478720528797, 0.005984092111753009], \"type\": \"data\"}, \"uid\": \"f9a23e34-d3f1-11e8-8093-5cc9d3123360\", \"type\": \"bar\", \"x\": [\"gds\", \"fes\", \"caminhada\", \"temp_sent\", \"berg\", \"meem\", \"lawton\", \"ativ_fis\", \"aavd\", \"tug\", \"katz\", \"hematocrito\", \"mos\", \"hgh\", \"hidroxivitamina_d\", \"hemoglobina\", \"colesterol_total\", \"il_10\", \"tnf_beta\", \"adam10\", \"fraq_musc_media\", \"albumina\", \"triglicerides\", \"insulina\", \"man\", \"il_6\", \"relogio\", \"il_1alpha\", \"vldl\", \"s_dhea\", \"fraq_musc_max\", \"circ_cint\", \"circ_quad\", \"il_1beta\", \"proteina_total\", \"ureia\", \"glicose\", \"circ_pant\", \"ldl\", \"quedas\", \"tnf_alpha\", \"dhea\", \"hdl\", \"hemoglobina_glicada\", \"idade\", \"creatina\", \"somatomedina_c\", \"globulinas\"]}], {\"title\": \"Pontua\\u00e7\\u00e3o das vari\\u00e1veis no Score de Fisher para a avalia\\u00e7\\u00e3o subjetiva\"}, {\"showLink\": true, \"linkText\": \"Export to plot.ly\"})});</script>"
      ],
      "text/vnd.plotly.v1+html": [
       "<div id=\"5f94f759-7752-4a40-852c-03316f5dbedb\" style=\"height: 525px; width: 100%;\" class=\"plotly-graph-div\"></div><script type=\"text/javascript\">require([\"plotly\"], function(Plotly) { window.PLOTLYENV=window.PLOTLYENV || {};window.PLOTLYENV.BASE_URL=\"https://plot.ly\";Plotly.newPlot(\"5f94f759-7752-4a40-852c-03316f5dbedb\", [{\"y\": [0.1290909191724319, 0.1031310489028447, 0.0464258156066703, 0.04133612026034069, 0.037461357287712695, 0.03551896263453349, 0.033554661613375315, 0.025766204956169173, 0.024571140015355132, 0.022356046881573763, 0.01959065142678395, 0.019187845442921892, 0.018848395205730773, 0.018775278757451427, 0.018300055940855237, 0.017490272250784172, 0.014904952504885015, 0.01444148483593992, 0.013713379599119377, 0.012816974049021929, 0.012658530387796397, 0.01258379738837405, 0.012435812568365236, 0.011579725116632956, 0.011340876295102397, 0.011249273315887938, 0.011166101418819364, 0.011098374272190894, 0.010935948149931414, 0.0106246199676647, 0.009456712195469496, 0.009166019691251756, 0.00868988054932681, 0.00863672854993883, 0.008626106542287336, 0.008536376648244777, 0.008225472281002746, 0.008217181434726786, 0.008121306637713406, 0.007988052906316809, 0.007779805363940192, 0.0077343793612328505, 0.00721983814540927, 0.0066596392872745975, 0.006194973666813535, 0.00543905879846852, 0.005100775248534125, 0.004417232093905867], \"error_y\": {\"visible\": true, \"array\": [0.13366774242434903, 0.11212082227845356, 0.04738010594037091, 0.04047077432359989, 0.035775322552076196, 0.0330643211805041, 0.03614720371652119, 0.02254861505523508, 0.028917243031941726, 0.021386555218851026, 0.020893040060025903, 0.021174101547081547, 0.018744136051505548, 0.025590656499540364, 0.023151985525648247, 0.019793914134080152, 0.013703076343930911, 0.01259361110224539, 0.012353873182027752, 0.014977361235358049, 0.014010359539358575, 0.012731925211031546, 0.015131095012177055, 0.011318005504831382, 0.013968627793532301, 0.012146608321742788, 0.018535995219117654, 0.013671649816000345, 0.013964338568191476, 0.013010948654891472, 0.010928021928397157, 0.007775283707157624, 0.008724945174228864, 0.009746987778461853, 0.010999964759595788, 0.012836688043905744, 0.010156425547123713, 0.0061190015981283374, 0.008214750856684914, 0.005634059822067472, 0.008823154254228697, 0.009114981260247236, 0.010552655276422926, 0.008942395276760063, 0.007157573256169378, 0.002620745556249616, 0.007478720528797, 0.005984092111753009], \"type\": \"data\"}, \"uid\": \"f9a23e34-d3f1-11e8-8093-5cc9d3123360\", \"type\": \"bar\", \"x\": [\"gds\", \"fes\", \"caminhada\", \"temp_sent\", \"berg\", \"meem\", \"lawton\", \"ativ_fis\", \"aavd\", \"tug\", \"katz\", \"hematocrito\", \"mos\", \"hgh\", \"hidroxivitamina_d\", \"hemoglobina\", \"colesterol_total\", \"il_10\", \"tnf_beta\", \"adam10\", \"fraq_musc_media\", \"albumina\", \"triglicerides\", \"insulina\", \"man\", \"il_6\", \"relogio\", \"il_1alpha\", \"vldl\", \"s_dhea\", \"fraq_musc_max\", \"circ_cint\", \"circ_quad\", \"il_1beta\", \"proteina_total\", \"ureia\", \"glicose\", \"circ_pant\", \"ldl\", \"quedas\", \"tnf_alpha\", \"dhea\", \"hdl\", \"hemoglobina_glicada\", \"idade\", \"creatina\", \"somatomedina_c\", \"globulinas\"]}], {\"title\": \"Pontua\\u00e7\\u00e3o das vari\\u00e1veis no Score de Fisher para a avalia\\u00e7\\u00e3o subjetiva\"}, {\"showLink\": true, \"linkText\": \"Export to plot.ly\"})});</script>"
      ]
     },
     "metadata": {},
     "output_type": "display_data"
    }
   ],
   "source": [
    "plotFisherScore('subjetiva', scores)"
   ]
  },
  {
   "cell_type": "markdown",
   "metadata": {},
   "source": [
    "### Edmonton"
   ]
  },
  {
   "cell_type": "code",
   "execution_count": 111,
   "metadata": {},
   "outputs": [],
   "source": [
    "# convertendo a classificação de F,P,N para L,M,N,S,V\n",
    "for i, row in df_coleta.iterrows():\n",
    "    array = row.loc['edmonton_q1':'edmonton_q9'].tolist()    \n",
    "    classe = getClass('edmonton', array)\n",
    "    df_coleta.loc[i, 'edmonton'] = classe\n",
    "    \n",
    "df_answ['edmonton'] = df_coleta['edmonton']"
   ]
  },
  {
   "cell_type": "code",
   "execution_count": 140,
   "metadata": {},
   "outputs": [],
   "source": [
    "# vetor que armazena todas as execuções do score de fisher\n",
    "scores = np.zeros((3**6 * 2**5, len(cols_feat)))\n",
    "i = 0\n",
    "\n",
    "# todas as possíveis combinações de pontuação para a Edmonton\n",
    "for i0 in range(3):#3\n",
    "    for i1 in range(3):#3\n",
    "        for i2 in range(3):#3\n",
    "            for i3 in range(3):#3\n",
    "                for i4 in range(3):#3\n",
    "                    for i5 in range(2):\n",
    "                        for i6 in range(2):\n",
    "                            for i7 in range(2):\n",
    "                                for i8 in range(2):\n",
    "                                    for i9 in range(2):\n",
    "                                        for i10 in range(3):#3                                                \n",
    "                                            array = [i0, i1, i2, i3, i4, i5, i6, i7, i8, i9, i10]\n",
    "                                            classe = getClass('edmonton', array)\n",
    "                                            exemplos = getIdsByMaxDistance('edmonton', array, df_coleta)\n",
    "\n",
    "                                            if len(exemplos) < 0.1*df_coleta.shape[0]:\n",
    "                                                # Severa não tem 10% da base, por isso juntamos com Moderada\n",
    "                                                if classe=='S':\n",
    "                                                    exemplos = df_coleta.query('edmonton==\"S\" or edmonton==\"M\"').index\n",
    "                                                else:\n",
    "                                                    exemplos = df_coleta.query('edmonton==\"'+classe+'\"').index\n",
    "                                                    \n",
    "                                            df_prox = df_feat.loc[exemplos]\n",
    "                                            df_dist = df_feat.loc[ ~df_feat.index.isin(exemplos) ]\n",
    "                        \n",
    "                                            scores[i] = (np.mean(df_prox) - np.mean(df_dist)).pow(2) / (np.var(df_prox) + np.var(df_dist))\n",
    "                                            i += 1"
   ]
  },
  {
   "cell_type": "code",
   "execution_count": 141,
   "metadata": {},
   "outputs": [
    {
     "data": {
      "application/vnd.plotly.v1+json": {
       "data": [
        {
         "error_y": {
          "array": [
           0.2674130130649943,
           0.27869632465719335,
           0.16431997438789256,
           0.14905435108388113,
           0.0883065198351048,
           0.08771162897152221,
           0.08638145805752045,
           0.10228502404727574,
           0.09983950503202105,
           0.08073387600732428,
           0.04282232883466258,
           0.05811793619128217,
           0.057115063398054874,
           0.05692466903059671,
           0.048409839947712564,
           0.04573990182790686,
           0.03814749550510852,
           0.038709140045556034,
           0.024844307194594732,
           0.028492182927879653,
           0.02286272632555318,
           0.026371954388394254,
           0.02793642195062449,
           0.024634653198808594,
           0.020717001186368114,
           0.01672367894289604,
           0.016386605727205593,
           0.00874483552975546,
           0.011494022657746805,
           0.011676455994490431,
           0.014324770650984472,
           0.006167799531704526,
           0.00788836591576186,
           0.012443682260244168,
           0.009125577874233414,
           0.00410591209420398,
           0.006926896778956716,
           0.006523130007537141,
           0.005573883163750264,
           0.009480063810370833,
           0.005486316201730159,
           0.007808864559209899,
           0.009131297399336276,
           0.006072513568717554,
           0.005708924191208466,
           0.008092821989534496,
           0.005663914758755712,
           0.0059651839455026785
          ],
          "type": "data",
          "visible": true
         },
         "type": "bar",
         "uid": "8ef38ae6-d3f3-11e8-8093-5cc9d3123360",
         "x": [
          "gds",
          "lawton",
          "berg",
          "tug",
          "fes",
          "caminhada",
          "relogio",
          "temp_sent",
          "meem",
          "katz",
          "ativ_fis",
          "aavd",
          "idade",
          "s_dhea",
          "hemoglobina",
          "hematocrito",
          "mos",
          "albumina",
          "fraq_musc_media",
          "fraq_musc_max",
          "il_1alpha",
          "il_1beta",
          "adam10",
          "man",
          "hidroxivitamina_d",
          "proteina_total",
          "glicose",
          "il_6",
          "vldl",
          "creatina",
          "insulina",
          "circ_pant",
          "tnf_alpha",
          "ureia",
          "triglicerides",
          "quedas",
          "circ_quad",
          "tnf_beta",
          "il_10",
          "hemoglobina_glicada",
          "circ_cint",
          "ldl",
          "hgh",
          "dhea",
          "somatomedina_c",
          "colesterol_total",
          "hdl",
          "globulinas"
         ],
         "y": [
          0.35187281863769015,
          0.34438875996148727,
          0.20139574612496125,
          0.18708139675760016,
          0.15149500785464945,
          0.13462647581032783,
          0.13287341533206035,
          0.11680007181104,
          0.11597699810004763,
          0.09913965752728696,
          0.08558866598183228,
          0.08234807200321,
          0.07905848970855474,
          0.07485536695663372,
          0.06752859542338531,
          0.0671718714019418,
          0.04525709405930114,
          0.044557988447864315,
          0.03976085218112619,
          0.038359888947587316,
          0.03733276467080123,
          0.03217611811862952,
          0.03186269938943926,
          0.027904762361343108,
          0.02340488637585649,
          0.016738722191703533,
          0.016592497848215582,
          0.015616718433513506,
          0.014950926785452906,
          0.014950150636508867,
          0.014784475217037116,
          0.013125209449827846,
          0.012284384751297272,
          0.010863154414538407,
          0.008375612486587903,
          0.00798985929999282,
          0.007888160917935042,
          0.0070857777613860485,
          0.005461145098643214,
          0.005171714922758599,
          0.005066680023992259,
          0.00451529230334515,
          0.004318768398952314,
          0.0038930080619084817,
          0.00360269860020316,
          0.003006839014655342,
          0.002643277660132439,
          0.002613738288665256
         ]
        }
       ],
       "layout": {
        "title": "Pontuação das variáveis no Score de Fisher para a avaliação edmonton"
       }
      },
      "text/html": [
       "<div id=\"2af345aa-0010-461f-b6ba-b33b6e1c0b98\" style=\"height: 525px; width: 100%;\" class=\"plotly-graph-div\"></div><script type=\"text/javascript\">require([\"plotly\"], function(Plotly) { window.PLOTLYENV=window.PLOTLYENV || {};window.PLOTLYENV.BASE_URL=\"https://plot.ly\";Plotly.newPlot(\"2af345aa-0010-461f-b6ba-b33b6e1c0b98\", [{\"y\": [0.35187281863769015, 0.34438875996148727, 0.20139574612496125, 0.18708139675760016, 0.15149500785464945, 0.13462647581032783, 0.13287341533206035, 0.11680007181104, 0.11597699810004763, 0.09913965752728696, 0.08558866598183228, 0.08234807200321, 0.07905848970855474, 0.07485536695663372, 0.06752859542338531, 0.0671718714019418, 0.04525709405930114, 0.044557988447864315, 0.03976085218112619, 0.038359888947587316, 0.03733276467080123, 0.03217611811862952, 0.03186269938943926, 0.027904762361343108, 0.02340488637585649, 0.016738722191703533, 0.016592497848215582, 0.015616718433513506, 0.014950926785452906, 0.014950150636508867, 0.014784475217037116, 0.013125209449827846, 0.012284384751297272, 0.010863154414538407, 0.008375612486587903, 0.00798985929999282, 0.007888160917935042, 0.0070857777613860485, 0.005461145098643214, 0.005171714922758599, 0.005066680023992259, 0.00451529230334515, 0.004318768398952314, 0.0038930080619084817, 0.00360269860020316, 0.003006839014655342, 0.002643277660132439, 0.002613738288665256], \"error_y\": {\"visible\": true, \"array\": [0.2674130130649943, 0.27869632465719335, 0.16431997438789256, 0.14905435108388113, 0.0883065198351048, 0.08771162897152221, 0.08638145805752045, 0.10228502404727574, 0.09983950503202105, 0.08073387600732428, 0.04282232883466258, 0.05811793619128217, 0.057115063398054874, 0.05692466903059671, 0.048409839947712564, 0.04573990182790686, 0.03814749550510852, 0.038709140045556034, 0.024844307194594732, 0.028492182927879653, 0.02286272632555318, 0.026371954388394254, 0.02793642195062449, 0.024634653198808594, 0.020717001186368114, 0.01672367894289604, 0.016386605727205593, 0.00874483552975546, 0.011494022657746805, 0.011676455994490431, 0.014324770650984472, 0.006167799531704526, 0.00788836591576186, 0.012443682260244168, 0.009125577874233414, 0.00410591209420398, 0.006926896778956716, 0.006523130007537141, 0.005573883163750264, 0.009480063810370833, 0.005486316201730159, 0.007808864559209899, 0.009131297399336276, 0.006072513568717554, 0.005708924191208466, 0.008092821989534496, 0.005663914758755712, 0.0059651839455026785], \"type\": \"data\"}, \"uid\": \"8ef38ae6-d3f3-11e8-8093-5cc9d3123360\", \"type\": \"bar\", \"x\": [\"gds\", \"lawton\", \"berg\", \"tug\", \"fes\", \"caminhada\", \"relogio\", \"temp_sent\", \"meem\", \"katz\", \"ativ_fis\", \"aavd\", \"idade\", \"s_dhea\", \"hemoglobina\", \"hematocrito\", \"mos\", \"albumina\", \"fraq_musc_media\", \"fraq_musc_max\", \"il_1alpha\", \"il_1beta\", \"adam10\", \"man\", \"hidroxivitamina_d\", \"proteina_total\", \"glicose\", \"il_6\", \"vldl\", \"creatina\", \"insulina\", \"circ_pant\", \"tnf_alpha\", \"ureia\", \"triglicerides\", \"quedas\", \"circ_quad\", \"tnf_beta\", \"il_10\", \"hemoglobina_glicada\", \"circ_cint\", \"ldl\", \"hgh\", \"dhea\", \"somatomedina_c\", \"colesterol_total\", \"hdl\", \"globulinas\"]}], {\"title\": \"Pontua\\u00e7\\u00e3o das vari\\u00e1veis no Score de Fisher para a avalia\\u00e7\\u00e3o edmonton\"}, {\"showLink\": true, \"linkText\": \"Export to plot.ly\"})});</script>"
      ],
      "text/vnd.plotly.v1+html": [
       "<div id=\"2af345aa-0010-461f-b6ba-b33b6e1c0b98\" style=\"height: 525px; width: 100%;\" class=\"plotly-graph-div\"></div><script type=\"text/javascript\">require([\"plotly\"], function(Plotly) { window.PLOTLYENV=window.PLOTLYENV || {};window.PLOTLYENV.BASE_URL=\"https://plot.ly\";Plotly.newPlot(\"2af345aa-0010-461f-b6ba-b33b6e1c0b98\", [{\"y\": [0.35187281863769015, 0.34438875996148727, 0.20139574612496125, 0.18708139675760016, 0.15149500785464945, 0.13462647581032783, 0.13287341533206035, 0.11680007181104, 0.11597699810004763, 0.09913965752728696, 0.08558866598183228, 0.08234807200321, 0.07905848970855474, 0.07485536695663372, 0.06752859542338531, 0.0671718714019418, 0.04525709405930114, 0.044557988447864315, 0.03976085218112619, 0.038359888947587316, 0.03733276467080123, 0.03217611811862952, 0.03186269938943926, 0.027904762361343108, 0.02340488637585649, 0.016738722191703533, 0.016592497848215582, 0.015616718433513506, 0.014950926785452906, 0.014950150636508867, 0.014784475217037116, 0.013125209449827846, 0.012284384751297272, 0.010863154414538407, 0.008375612486587903, 0.00798985929999282, 0.007888160917935042, 0.0070857777613860485, 0.005461145098643214, 0.005171714922758599, 0.005066680023992259, 0.00451529230334515, 0.004318768398952314, 0.0038930080619084817, 0.00360269860020316, 0.003006839014655342, 0.002643277660132439, 0.002613738288665256], \"error_y\": {\"visible\": true, \"array\": [0.2674130130649943, 0.27869632465719335, 0.16431997438789256, 0.14905435108388113, 0.0883065198351048, 0.08771162897152221, 0.08638145805752045, 0.10228502404727574, 0.09983950503202105, 0.08073387600732428, 0.04282232883466258, 0.05811793619128217, 0.057115063398054874, 0.05692466903059671, 0.048409839947712564, 0.04573990182790686, 0.03814749550510852, 0.038709140045556034, 0.024844307194594732, 0.028492182927879653, 0.02286272632555318, 0.026371954388394254, 0.02793642195062449, 0.024634653198808594, 0.020717001186368114, 0.01672367894289604, 0.016386605727205593, 0.00874483552975546, 0.011494022657746805, 0.011676455994490431, 0.014324770650984472, 0.006167799531704526, 0.00788836591576186, 0.012443682260244168, 0.009125577874233414, 0.00410591209420398, 0.006926896778956716, 0.006523130007537141, 0.005573883163750264, 0.009480063810370833, 0.005486316201730159, 0.007808864559209899, 0.009131297399336276, 0.006072513568717554, 0.005708924191208466, 0.008092821989534496, 0.005663914758755712, 0.0059651839455026785], \"type\": \"data\"}, \"uid\": \"8ef38ae6-d3f3-11e8-8093-5cc9d3123360\", \"type\": \"bar\", \"x\": [\"gds\", \"lawton\", \"berg\", \"tug\", \"fes\", \"caminhada\", \"relogio\", \"temp_sent\", \"meem\", \"katz\", \"ativ_fis\", \"aavd\", \"idade\", \"s_dhea\", \"hemoglobina\", \"hematocrito\", \"mos\", \"albumina\", \"fraq_musc_media\", \"fraq_musc_max\", \"il_1alpha\", \"il_1beta\", \"adam10\", \"man\", \"hidroxivitamina_d\", \"proteina_total\", \"glicose\", \"il_6\", \"vldl\", \"creatina\", \"insulina\", \"circ_pant\", \"tnf_alpha\", \"ureia\", \"triglicerides\", \"quedas\", \"circ_quad\", \"tnf_beta\", \"il_10\", \"hemoglobina_glicada\", \"circ_cint\", \"ldl\", \"hgh\", \"dhea\", \"somatomedina_c\", \"colesterol_total\", \"hdl\", \"globulinas\"]}], {\"title\": \"Pontua\\u00e7\\u00e3o das vari\\u00e1veis no Score de Fisher para a avalia\\u00e7\\u00e3o edmonton\"}, {\"showLink\": true, \"linkText\": \"Export to plot.ly\"})});</script>"
      ]
     },
     "metadata": {},
     "output_type": "display_data"
    }
   ],
   "source": [
    "plotFisherScore('edmonton', scores)"
   ]
  }
 ],
 "metadata": {
  "kernelspec": {
   "display_name": "Python 3",
   "language": "python",
   "name": "python3"
  },
  "language_info": {
   "codemirror_mode": {
    "name": "ipython",
    "version": 3
   },
   "file_extension": ".py",
   "mimetype": "text/x-python",
   "name": "python",
   "nbconvert_exporter": "python",
   "pygments_lexer": "ipython3",
   "version": "3.5.2"
  }
 },
 "nbformat": 4,
 "nbformat_minor": 2
}
